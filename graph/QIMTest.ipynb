{
 "cells": [
  {
   "cell_type": "code",
   "execution_count": 13,
   "metadata": {
    "collapsed": true,
    "ExecuteTime": {
     "end_time": "2023-12-29T05:00:13.125787800Z",
     "start_time": "2023-12-29T05:00:13.118373100Z"
    }
   },
   "outputs": [],
   "source": [
    "import math\n",
    "import random\n",
    "\n",
    "from graph import  read_graph_with_weights\n",
    "from QIM import sampling"
   ]
  },
  {
   "cell_type": "code",
   "execution_count": 14,
   "outputs": [],
   "source": [
    "G = read_graph_with_weights('../graphs/dash.txt')"
   ],
   "metadata": {
    "collapsed": false,
    "ExecuteTime": {
     "end_time": "2023-12-29T05:00:15.123578800Z",
     "start_time": "2023-12-29T05:00:15.080577Z"
    }
   }
  },
  {
   "cell_type": "code",
   "execution_count": 15,
   "outputs": [],
   "source": [
    "values = {}\n",
    "n = len(G.nodes)\n",
    "for v in G.nodes:\n",
    "    values[v] = random.random()\n",
    "C = random.choices(list(G.nodes), k = math.ceil(n/10))"
   ],
   "metadata": {
    "collapsed": false,
    "ExecuteTime": {
     "end_time": "2023-12-29T05:00:16.480096900Z",
     "start_time": "2023-12-29T05:00:16.441060300Z"
    }
   }
  },
  {
   "cell_type": "code",
   "execution_count": 16,
   "outputs": [
    {
     "name": "stdout",
     "output_type": "stream",
     "text": [
      "imax =46,thetamax=164693.02205162693\n",
      "time to generate rr:0.005511283874511719\n",
      "node selection:0.0019986629486083984\n",
      "time to generate rr:0.00999903678894043\n",
      "node selection:0.003999948501586914\n",
      "time to generate rr:0.017999887466430664\n",
      "node selection:0.0030014514923095703\n",
      "time to generate rr:0.029000282287597656\n",
      "node selection:0.0019998550415039062\n",
      "time to generate rr:0.05750918388366699\n",
      "node selection:0.003000020980834961\n",
      "time to generate rr:0.12058639526367188\n",
      "node selection:0.002999544143676758\n",
      "time to generate rr:0.2415299415588379\n",
      "node selection:0.00700068473815918\n",
      "time to generate rr:0.45003509521484375\n",
      "node selection:0.007999658584594727\n"
     ]
    }
   ],
   "source": [
    "R = sampling(G, C, 20, 0.001, 1/len(G.nodes), values)"
   ],
   "metadata": {
    "collapsed": false,
    "ExecuteTime": {
     "end_time": "2023-12-29T05:00:18.338358500Z",
     "start_time": "2023-12-29T05:00:17.375155500Z"
    }
   }
  },
  {
   "cell_type": "code",
   "execution_count": 10,
   "outputs": [
    {
     "data": {
      "text/plain": "3.484289794858478"
     },
     "execution_count": 10,
     "metadata": {},
     "output_type": "execute_result"
    }
   ],
   "source": [
    "import numpy as np\n",
    "np.mean(np.asarray([len(rr) for rr in R.edges]))"
   ],
   "metadata": {
    "collapsed": false,
    "ExecuteTime": {
     "end_time": "2023-12-29T04:24:58.447526200Z",
     "start_time": "2023-12-29T04:24:57.951568100Z"
    }
   }
  },
  {
   "cell_type": "code",
   "execution_count": 17,
   "outputs": [
    {
     "data": {
      "text/plain": "6643"
     },
     "execution_count": 17,
     "metadata": {},
     "output_type": "execute_result"
    }
   ],
   "source": [
    "len(R.edges)"
   ],
   "metadata": {
    "collapsed": false,
    "ExecuteTime": {
     "end_time": "2023-12-29T05:00:23.076922800Z",
     "start_time": "2023-12-29T05:00:23.057922600Z"
    }
   }
  }
 ],
 "metadata": {
  "kernelspec": {
   "display_name": "Python 3",
   "language": "python",
   "name": "python3"
  },
  "language_info": {
   "codemirror_mode": {
    "name": "ipython",
    "version": 2
   },
   "file_extension": ".py",
   "mimetype": "text/x-python",
   "name": "python",
   "nbconvert_exporter": "python",
   "pygments_lexer": "ipython2",
   "version": "2.7.6"
  }
 },
 "nbformat": 4,
 "nbformat_minor": 0
}
