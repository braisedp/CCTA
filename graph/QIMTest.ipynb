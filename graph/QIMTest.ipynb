{
 "cells": [
  {
   "cell_type": "code",
   "execution_count": 21,
   "metadata": {
    "collapsed": true,
    "ExecuteTime": {
     "end_time": "2023-12-27T13:48:29.338147200Z",
     "start_time": "2023-12-27T13:48:29.314182800Z"
    }
   },
   "outputs": [],
   "source": [
    "import math\n",
    "import random\n",
    "import time\n",
    "\n",
    "from graph import  read_graph_with_weights, generate_rr,wrt_prb\n",
    "from QIM import sampling"
   ]
  },
  {
   "cell_type": "code",
   "execution_count": 22,
   "outputs": [],
   "source": [
    "G = read_graph_with_weights('../graphs/dash.txt')"
   ],
   "metadata": {
    "collapsed": false,
    "ExecuteTime": {
     "end_time": "2023-12-27T13:48:30.457354800Z",
     "start_time": "2023-12-27T13:48:30.345515800Z"
    }
   }
  },
  {
   "cell_type": "code",
   "execution_count": 12,
   "outputs": [
    {
     "data": {
      "text/plain": "[[6258],\n [6258],\n [6258, 4054],\n [6258],\n [6258],\n [6258],\n [6258],\n [6258,\n  6190,\n  1480,\n  5100,\n  6202,\n  5613,\n  69,\n  728,\n  4772,\n  1488,\n  5272,\n  5737,\n  4798,\n  4619,\n  2223,\n  3253,\n  2371,\n  2634,\n  5253,\n  4468,\n  2410,\n  2199,\n  1819,\n  3327,\n  2651,\n  3706,\n  4491,\n  1163,\n  969,\n  146,\n  1218,\n  5517,\n  4697,\n  2241,\n  3997,\n  3306,\n  5558,\n  5407,\n  649,\n  5851,\n  3634,\n  3734,\n  2444,\n  660,\n  3294,\n  738,\n  1660,\n  5564,\n  5967,\n  5681,\n  3923,\n  3594,\n  6137,\n  5866,\n  4866,\n  5515,\n  1497,\n  4519,\n  2502,\n  5532,\n  4557,\n  5296,\n  882,\n  3671,\n  480,\n  4363,\n  3990,\n  2805,\n  452,\n  1126,\n  5366,\n  3660,\n  2466,\n  1968,\n  859,\n  559,\n  4856,\n  2353,\n  4337,\n  2627,\n  1731,\n  4270,\n  2227,\n  4997,\n  1231,\n  2681,\n  812,\n  3250,\n  2158,\n  1310,\n  1053,\n  6047,\n  3455,\n  5162,\n  3190,\n  1470,\n  133,\n  5997,\n  4252,\n  2226,\n  4130,\n  1004,\n  1042,\n  471,\n  1158,\n  567,\n  522,\n  478,\n  5714,\n  499,\n  6179,\n  5072,\n  6068,\n  1429,\n  1502,\n  4420,\n  3269,\n  5525,\n  3413,\n  525,\n  3112,\n  3762,\n  2757,\n  3656,\n  5426,\n  4728,\n  5098,\n  1103,\n  4648,\n  610,\n  2214,\n  5474,\n  196,\n  2579,\n  118,\n  3149,\n  2363,\n  673,\n  5440,\n  5270,\n  3537,\n  3841,\n  3958,\n  5255,\n  5760,\n  2394,\n  6152,\n  5590,\n  2471,\n  5096,\n  537,\n  4639,\n  5074,\n  2672,\n  3119,\n  4058,\n  307,\n  220,\n  1204,\n  4185,\n  3372,\n  1125,\n  2575,\n  2960,\n  215,\n  3308,\n  5380,\n  6097,\n  5748,\n  2449,\n  4300,\n  698,\n  3375,\n  2361,\n  3831,\n  1714,\n  5651,\n  6032,\n  588,\n  327,\n  5805,\n  6122,\n  1406,\n  2348,\n  1412,\n  6117,\n  1734,\n  4442,\n  356,\n  5446,\n  6231,\n  214,\n  5483,\n  6034,\n  684,\n  4479,\n  2649,\n  2251,\n  5993,\n  71,\n  1486,\n  4387,\n  3145,\n  2936,\n  448,\n  5745,\n  5199,\n  3419,\n  5444,\n  962,\n  3716,\n  6154,\n  5091,\n  3714,\n  262,\n  5347,\n  3586,\n  5285,\n  4931,\n  2548,\n  5818,\n  2248,\n  4972,\n  5939,\n  2628,\n  4962,\n  2684,\n  1494,\n  2263,\n  1980,\n  4850,\n  1625,\n  1074,\n  1913,\n  1311,\n  3914,\n  3497,\n  3736,\n  3224,\n  5132,\n  2455,\n  3786,\n  6134,\n  5891,\n  4941,\n  5,\n  4424,\n  3192,\n  20,\n  3328,\n  1385,\n  3727,\n  3748,\n  3020,\n  3014,\n  5882,\n  2288,\n  4640,\n  1,\n  2242,\n  2761,\n  3228,\n  6022,\n  3960,\n  3368,\n  2993,\n  926,\n  1133,\n  6267,\n  4415,\n  3335,\n  731,\n  1265,\n  2804,\n  702,\n  1456,\n  3326,\n  2137,\n  54,\n  3630,\n  2492,\n  1346,\n  2098,\n  2129,\n  5704,\n  209,\n  3122,\n  339,\n  2910,\n  1127,\n  4868,\n  2447,\n  3979,\n  2862,\n  2097,\n  873,\n  455,\n  2172,\n  5355,\n  10,\n  6077,\n  3087,\n  470,\n  2277,\n  5186,\n  1962,\n  1555,\n  5808,\n  4181,\n  2051,\n  1432,\n  4484,\n  3892,\n  3131,\n  5680,\n  4194,\n  6157,\n  2678,\n  4084,\n  2165,\n  1623,\n  2774,\n  4169,\n  3417,\n  6148,\n  2806,\n  4017,\n  5764,\n  5811,\n  5151,\n  2611,\n  3784,\n  1629,\n  6222,\n  2742,\n  3247,\n  661,\n  4733,\n  1396,\n  5217,\n  4180,\n  3019,\n  2606,\n  125,\n  5551,\n  842,\n  2108,\n  3370,\n  32,\n  2224,\n  4043,\n  5335,\n  218,\n  67,\n  5501,\n  5111,\n  3750,\n  4454,\n  1656,\n  3525,\n  1468,\n  2050,\n  2938,\n  163,\n  3826,\n  3999,\n  5968,\n  5835,\n  4166,\n  2727,\n  662,\n  1355,\n  1179,\n  5278,\n  3097,\n  3884,\n  518,\n  5073,\n  1703,\n  1898,\n  5907,\n  3219,\n  1121,\n  4039,\n  3128,\n  3909,\n  4465,\n  1580,\n  1776],\n [6258, 4054],\n [6258]]"
     },
     "execution_count": 12,
     "metadata": {},
     "output_type": "execute_result"
    }
   ],
   "source": [
    "from utils.funcs import HyperGraph\n",
    "v = 6258\n",
    "HG = HyperGraph(list(G.nodes))\n",
    "for i in range(10):\n",
    "    generate_rr(G,v,HG, i)\n",
    "HG.edges"
   ],
   "metadata": {
    "collapsed": false,
    "ExecuteTime": {
     "end_time": "2023-12-27T13:40:58.327981500Z",
     "start_time": "2023-12-27T13:40:58.275072100Z"
    }
   }
  },
  {
   "cell_type": "code",
   "execution_count": 13,
   "outputs": [
    {
     "data": {
      "text/plain": "{4659: {'weight': 0.3226447050049373},\n 4054: {'weight': 0.20608499857196175},\n 6190: {'weight': 0.11350432146673503}}"
     },
     "execution_count": 13,
     "metadata": {},
     "output_type": "execute_result"
    }
   ],
   "source": [
    "Dict = {}\n",
    "for i in G.neighbors(v):\n",
    "    Dict[i]=G[v][i]\n",
    "Dict"
   ],
   "metadata": {
    "collapsed": false,
    "ExecuteTime": {
     "end_time": "2023-12-27T13:41:00.776955800Z",
     "start_time": "2023-12-27T13:41:00.752965800Z"
    }
   }
  },
  {
   "cell_type": "code",
   "execution_count": 23,
   "outputs": [],
   "source": [
    "values = {}\n",
    "n = len(G.nodes)\n",
    "for v in G.nodes:\n",
    "    values[v] = random.random()\n",
    "C = random.choices(list(G.nodes), k = math.ceil(n/10))"
   ],
   "metadata": {
    "collapsed": false,
    "ExecuteTime": {
     "end_time": "2023-12-27T13:48:36.627451200Z",
     "start_time": "2023-12-27T13:48:36.597629500Z"
    }
   }
  },
  {
   "cell_type": "code",
   "execution_count": 24,
   "outputs": [
    {
     "name": "stdout",
     "output_type": "stream",
     "text": [
      "imax =37,thetamax=247116.68289070192\n",
      "time to generate rr:0.03591156005859375\n",
      "node selection:0.014028549194335938\n",
      "-0.020227823416911733\n",
      "91\n",
      "time to generate rr:0.03888988494873047\n",
      "node selection:0.013986349105834961\n",
      "-0.0035062485306785887\n",
      "227\n",
      "time to generate rr:0.0623166561126709\n",
      "node selection:0.01598501205444336\n",
      "0.03065107577620604\n",
      "475\n",
      "time to generate rr:0.14873552322387695\n",
      "node selection:0.015956640243530273\n",
      "0.08508544227740547\n",
      "960\n",
      "time to generate rr:0.33556103706359863\n",
      "node selection:0.02293992042541504\n",
      "0.2624858077355654\n",
      "1925\n"
     ]
    }
   ],
   "source": [
    "R = sampling(G, C, 100, 0.001, 1/len(C), values)"
   ],
   "metadata": {
    "collapsed": false,
    "ExecuteTime": {
     "end_time": "2023-12-27T13:48:39.118978100Z",
     "start_time": "2023-12-27T13:48:38.334560400Z"
    }
   }
  },
  {
   "cell_type": "code",
   "execution_count": 25,
   "outputs": [
    {
     "data": {
      "text/plain": "1925"
     },
     "execution_count": 25,
     "metadata": {},
     "output_type": "execute_result"
    }
   ],
   "source": [
    "len(R)"
   ],
   "metadata": {
    "collapsed": false,
    "ExecuteTime": {
     "end_time": "2023-12-27T13:51:08.627622700Z",
     "start_time": "2023-12-27T13:51:08.593715200Z"
    }
   }
  },
  {
   "cell_type": "code",
   "execution_count": 14,
   "outputs": [
    {
     "data": {
      "text/plain": "33.084375"
     },
     "execution_count": 14,
     "metadata": {},
     "output_type": "execute_result"
    }
   ],
   "source": [
    "import numpy as np\n",
    "np.mean(np.asarray([len(rr) for rr in R.edges]))"
   ],
   "metadata": {
    "collapsed": false,
    "ExecuteTime": {
     "end_time": "2023-12-27T13:42:40.366766300Z",
     "start_time": "2023-12-27T13:42:40.322030300Z"
    }
   }
  },
  {
   "cell_type": "code",
   "execution_count": 8,
   "outputs": [
    {
     "data": {
      "text/plain": "3661"
     },
     "execution_count": 8,
     "metadata": {},
     "output_type": "execute_result"
    }
   ],
   "source": [
    "len(R.edges)"
   ],
   "metadata": {
    "collapsed": false,
    "ExecuteTime": {
     "end_time": "2023-12-27T13:09:08.532603800Z",
     "start_time": "2023-12-27T13:09:08.518639200Z"
    }
   }
  },
  {
   "cell_type": "code",
   "execution_count": 17,
   "outputs": [
    {
     "data": {
      "text/plain": "{'weight': 0.1678212237654288}"
     },
     "execution_count": 17,
     "metadata": {},
     "output_type": "execute_result"
    }
   ],
   "source": [
    "list(G.neighbors(5461))\n",
    "G[5461][2949]"
   ],
   "metadata": {
    "collapsed": false,
    "ExecuteTime": {
     "end_time": "2023-12-27T09:58:42.979976700Z",
     "start_time": "2023-12-27T09:58:42.929935200Z"
    }
   }
  }
 ],
 "metadata": {
  "kernelspec": {
   "display_name": "Python 3",
   "language": "python",
   "name": "python3"
  },
  "language_info": {
   "codemirror_mode": {
    "name": "ipython",
    "version": 2
   },
   "file_extension": ".py",
   "mimetype": "text/x-python",
   "name": "python",
   "nbconvert_exporter": "python",
   "pygments_lexer": "ipython2",
   "version": "2.7.6"
  }
 },
 "nbformat": 4,
 "nbformat_minor": 0
}
