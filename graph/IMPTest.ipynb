{
 "cells": [
  {
   "cell_type": "code",
   "execution_count": 2,
   "metadata": {
    "collapsed": true,
    "ExecuteTime": {
     "end_time": "2023-12-23T06:59:33.557484500Z",
     "start_time": "2023-12-23T06:59:33.511367900Z"
    }
   },
   "outputs": [],
   "source": [
    "import random\n",
    "\n",
    "from graph import  read_graph_with_weights,wrt_prb,generate_rr\n",
    "from IMP import imm,sampling,node_selection"
   ]
  },
  {
   "cell_type": "code",
   "execution_count": 4,
   "outputs": [],
   "source": [
    "G = read_graph_with_weights('../graphs/dash.txt')"
   ],
   "metadata": {
    "collapsed": false,
    "ExecuteTime": {
     "end_time": "2023-12-23T06:59:50.209382900Z",
     "start_time": "2023-12-23T06:59:50.162411800Z"
    }
   }
  },
  {
   "cell_type": "code",
   "execution_count": 7,
   "outputs": [
    {
     "name": "stdout",
     "output_type": "stream",
     "text": [
      "time to find rr 0.4344048500061035\n",
      "0.08523306164034641\n",
      "node selection time 0.06199979782104492\n",
      "time to find rr 0.40418219566345215\n",
      "0.08493059093224656\n",
      "node selection time 0.16099977493286133\n",
      "time to find rr 0.9052362442016602\n",
      "0.08418903429171841\n",
      "node selection time 0.533684492111206\n",
      "time to find rr 1.73213529586792\n",
      "0.08384675390836438\n",
      "node selection time 1.7338721752166748\n",
      "1.1352479457855225\n"
     ]
    }
   ],
   "source": [
    "R = sampling(G,50,0.1,1)"
   ],
   "metadata": {
    "collapsed": false,
    "ExecuteTime": {
     "end_time": "2023-12-23T07:00:10.660636800Z",
     "start_time": "2023-12-23T07:00:02.500270600Z"
    }
   }
  },
  {
   "cell_type": "code",
   "execution_count": 11,
   "outputs": [
    {
     "data": {
      "text/plain": "(668456, 235, 1)"
     },
     "execution_count": 11,
     "metadata": {},
     "output_type": "execute_result"
    }
   ],
   "source": [
    "len(R),max([len(rr) for rr in R]),min([len(rr) for rr in R])"
   ],
   "metadata": {
    "collapsed": false,
    "ExecuteTime": {
     "end_time": "2023-12-23T07:01:32.335427300Z",
     "start_time": "2023-12-23T07:01:32.249477300Z"
    }
   }
  },
  {
   "cell_type": "code",
   "execution_count": 8,
   "outputs": [
    {
     "data": {
      "text/plain": "({22,\n  32,\n  710,\n  750,\n  755,\n  803,\n  969,\n  1196,\n  1296,\n  1308,\n  1772,\n  1899,\n  2051,\n  2114,\n  2199,\n  2263,\n  2418,\n  2455,\n  2507,\n  2642,\n  2652,\n  2684,\n  2811,\n  2960,\n  2964,\n  3119,\n  3327,\n  3497,\n  3539,\n  3776,\n  3876,\n  4032,\n  4181,\n  4231,\n  4283,\n  4468,\n  4772,\n  4789,\n  4841,\n  5049,\n  5074,\n  5142,\n  5305,\n  5312,\n  5656,\n  5764,\n  5823,\n  5998,\n  6110,\n  6270},\n 0.08382900295606592)"
     },
     "execution_count": 8,
     "metadata": {},
     "output_type": "execute_result"
    }
   ],
   "source": [
    "S = node_selection(G,R,50)\n",
    "S"
   ],
   "metadata": {
    "collapsed": false,
    "ExecuteTime": {
     "end_time": "2023-12-23T07:00:19.741499400Z",
     "start_time": "2023-12-23T07:00:16.617856400Z"
    }
   }
  }
 ],
 "metadata": {
  "kernelspec": {
   "display_name": "Python 3",
   "language": "python",
   "name": "python3"
  },
  "language_info": {
   "codemirror_mode": {
    "name": "ipython",
    "version": 2
   },
   "file_extension": ".py",
   "mimetype": "text/x-python",
   "name": "python",
   "nbconvert_exporter": "python",
   "pygments_lexer": "ipython2",
   "version": "2.7.6"
  }
 },
 "nbformat": 4,
 "nbformat_minor": 0
}
