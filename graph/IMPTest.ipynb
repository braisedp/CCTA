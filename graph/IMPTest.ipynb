{
 "cells": [
  {
   "cell_type": "code",
   "execution_count": 1,
   "metadata": {
    "collapsed": true,
    "ExecuteTime": {
     "end_time": "2023-12-14T07:00:18.739484200Z",
     "start_time": "2023-12-14T07:00:18.556038800Z"
    }
   },
   "outputs": [],
   "source": [
    "import random\n",
    "\n",
    "from graph import  read_graph_with_weights,wrt_prb,generate_rr\n",
    "from IMP import imm,sampling,node_selection"
   ]
  },
  {
   "cell_type": "code",
   "execution_count": 3,
   "outputs": [],
   "source": [
    "G = read_graph_with_weights('./graphs/dash.txt')"
   ],
   "metadata": {
    "collapsed": false,
    "ExecuteTime": {
     "end_time": "2023-12-14T07:00:25.947657Z",
     "start_time": "2023-12-14T07:00:25.882829100Z"
    }
   }
  },
  {
   "cell_type": "code",
   "execution_count": null,
   "outputs": [],
   "source": [
    "Sk = generate_rr(G,0)\n",
    "len(Sk)"
   ],
   "metadata": {
    "collapsed": false,
    "ExecuteTime": {
     "start_time": "2023-12-14T06:43:22.704507800Z"
    }
   }
  },
  {
   "cell_type": "code",
   "execution_count": 7,
   "outputs": [
    {
     "name": "stdout",
     "output_type": "stream",
     "text": [
      "time to find rr 0.08776545524597168\n",
      "0.11253369272237197\n",
      "node selection time 0.014959335327148438\n",
      "time to find rr 0.06183600425720215\n",
      "0.09467654986522911\n",
      "node selection time 0.016954898834228516\n",
      "time to find rr 0.1118474006652832\n",
      "0.08690155091031693\n",
      "node selection time 0.0249326229095459\n",
      "time to find rr 0.26628804206848145\n",
      "0.08570826306913996\n",
      "node selection time 0.04487943649291992\n",
      "time to find rr 0.5623877048492432\n",
      "0.08494940978077571\n",
      "node selection time 0.10571670532226562\n",
      "0.0\n"
     ]
    }
   ],
   "source": [
    "R = sampling(G,50,0.5,1)"
   ],
   "metadata": {
    "collapsed": false,
    "ExecuteTime": {
     "end_time": "2023-12-14T07:08:56.796953Z",
     "start_time": "2023-12-14T07:08:53.183144500Z"
    }
   }
  },
  {
   "cell_type": "code",
   "execution_count": 9,
   "outputs": [
    {
     "data": {
      "text/plain": "({22,\n  32,\n  710,\n  755,\n  803,\n  969,\n  1196,\n  1296,\n  1308,\n  1772,\n  1899,\n  1909,\n  2051,\n  2114,\n  2199,\n  2263,\n  2418,\n  2455,\n  2642,\n  2652,\n  2804,\n  2811,\n  2960,\n  2964,\n  3119,\n  3327,\n  3399,\n  3497,\n  3539,\n  3776,\n  3841,\n  3921,\n  4032,\n  4283,\n  4468,\n  4772,\n  4789,\n  4841,\n  5049,\n  5073,\n  5074,\n  5142,\n  5305,\n  5312,\n  5656,\n  5764,\n  5823,\n  5998,\n  6110,\n  6270},\n 0.08494940978077571)"
     },
     "execution_count": 9,
     "metadata": {},
     "output_type": "execute_result"
    }
   ],
   "source": [
    "S = node_selection(G,R,50)\n",
    "S"
   ],
   "metadata": {
    "collapsed": false,
    "ExecuteTime": {
     "end_time": "2023-12-14T07:09:03.846087700Z",
     "start_time": "2023-12-14T07:09:03.654766200Z"
    }
   }
  }
 ],
 "metadata": {
  "kernelspec": {
   "display_name": "Python 3",
   "language": "python",
   "name": "python3"
  },
  "language_info": {
   "codemirror_mode": {
    "name": "ipython",
    "version": 2
   },
   "file_extension": ".py",
   "mimetype": "text/x-python",
   "name": "python",
   "nbconvert_exporter": "python",
   "pygments_lexer": "ipython2",
   "version": "2.7.6"
  }
 },
 "nbformat": 4,
 "nbformat_minor": 0
}
