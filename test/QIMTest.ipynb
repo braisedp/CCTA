{
 "cells": [
  {
   "cell_type": "code",
   "execution_count": 1,
   "metadata": {
    "collapsed": true,
    "ExecuteTime": {
     "end_time": "2024-01-18T13:18:34.053942700Z",
     "start_time": "2024-01-18T13:18:32.814543900Z"
    }
   },
   "outputs": [],
   "source": [
    "import math\n",
    "import random\n",
    "\n",
    "from graph.graph import  read_graph_from_csv\n",
    "from graph.QIM import sampling"
   ]
  },
  {
   "cell_type": "code",
   "execution_count": 2,
   "outputs": [],
   "source": [
    "G = read_graph_from_csv('../graphs/dash/dash.csv',0)"
   ],
   "metadata": {
    "collapsed": false,
    "ExecuteTime": {
     "end_time": "2024-01-18T13:18:36.950291Z",
     "start_time": "2024-01-18T13:18:35.410168500Z"
    }
   }
  },
  {
   "cell_type": "code",
   "execution_count": 8,
   "outputs": [],
   "source": [
    "values = {}\n",
    "n = len(G.nodes)\n",
    "for v in G.nodes:\n",
    "    values[v] = random.random()\n",
    "C = random.choices(list(G.nodes), k = math.ceil(n/10))"
   ],
   "metadata": {
    "collapsed": false,
    "ExecuteTime": {
     "end_time": "2024-01-18T13:21:02.152189700Z",
     "start_time": "2024-01-18T13:21:02.150189600Z"
    }
   }
  },
  {
   "cell_type": "code",
   "execution_count": 9,
   "outputs": [
    {
     "name": "stdout",
     "output_type": "stream",
     "text": [
      "i_max:43\n",
      "fraction:8.107045182497527e-18\n",
      "fraction:8.107045182497527e-18\n",
      "fraction:8.107045182497527e-18\n",
      "fraction:7.597189661097967e-18\n",
      "fraction:-0.011559452155680331\n",
      "fraction:5.62370969665587e-18\n",
      "fraction:-0.012168893981107196\n",
      "fraction:-0.0067109970465283105\n",
      "fraction:0.046618768637402205\n",
      "fraction:0.12764213343358324\n",
      "fraction:0.21463636668144787\n",
      "fraction:0.17216883453677578\n",
      "fraction:0.28563816036330514\n"
     ]
    }
   ],
   "source": [
    "R = sampling(G, C, 1, 0.001, 1/len(C), values)"
   ],
   "metadata": {
    "collapsed": false,
    "ExecuteTime": {
     "end_time": "2024-01-18T13:21:12.502237300Z",
     "start_time": "2024-01-18T13:21:03.205265600Z"
    }
   }
  },
  {
   "cell_type": "code",
   "execution_count": 10,
   "outputs": [
    {
     "data": {
      "text/plain": "3.484289794858478"
     },
     "execution_count": 10,
     "metadata": {},
     "output_type": "execute_result"
    }
   ],
   "source": [
    "import numpy as np\n",
    "np.mean(np.asarray([len(rr) for rr in R.edges]))"
   ],
   "metadata": {
    "collapsed": false,
    "ExecuteTime": {
     "end_time": "2023-12-29T04:24:58.447526200Z",
     "start_time": "2023-12-29T04:24:57.951568100Z"
    }
   }
  },
  {
   "cell_type": "code",
   "execution_count": 17,
   "outputs": [
    {
     "data": {
      "text/plain": "6643"
     },
     "execution_count": 17,
     "metadata": {},
     "output_type": "execute_result"
    }
   ],
   "source": [
    "len(R.edges)"
   ],
   "metadata": {
    "collapsed": false,
    "ExecuteTime": {
     "end_time": "2023-12-29T05:00:23.076922800Z",
     "start_time": "2023-12-29T05:00:23.057922600Z"
    }
   }
  }
 ],
 "metadata": {
  "kernelspec": {
   "display_name": "Python 3",
   "language": "python",
   "name": "python3"
  },
  "language_info": {
   "codemirror_mode": {
    "name": "ipython",
    "version": 2
   },
   "file_extension": ".py",
   "mimetype": "text/x-python",
   "name": "python",
   "nbconvert_exporter": "python",
   "pygments_lexer": "ipython2",
   "version": "2.7.6"
  }
 },
 "nbformat": 4,
 "nbformat_minor": 0
}
