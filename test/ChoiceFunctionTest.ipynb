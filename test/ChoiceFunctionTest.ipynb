{
 "cells": [
  {
   "cell_type": "code",
   "execution_count": null,
   "metadata": {
    "collapsed": true
   },
   "outputs": [],
   "source": [
    "import random"
   ]
  },
  {
   "cell_type": "code",
   "execution_count": null,
   "outputs": [],
   "source": [
    "from utils.HyperGraph import HyperGraph\n",
    "\n",
    "n = 10\n",
    "r = 10\n",
    "elements = list(range(n))\n",
    "R = HyperGraph(elements)\n",
    "weights = [random.uniform(0.0,0.8) for i in range(n)]\n",
    "costs = {}\n",
    "for i in range(n):\n",
    "    costs[i] = weights[i]\n",
    "for i in range(r):\n",
    "    rr  = random.sample(elements,random.randint(1,n))\n",
    "    R.add_edge(i,rr)\n",
    "    for v in rr:\n",
    "        R.add_fr(v,i)"
   ],
   "metadata": {
    "collapsed": false
   }
  },
  {
   "cell_type": "code",
   "outputs": [],
   "source": [
    "from stable_matching.TaskWorker import BChoice\n",
    "\n",
    "S = []\n",
    "choice_func = BChoice(S,R,1.0,costs)\n",
    "queue = random.sample(elements,random.randint(0,n))\n",
    "for e in queue:\n",
    "    choice_func.choose(e)\n",
    "S"
   ],
   "metadata": {
    "collapsed": false
   },
   "execution_count": null
  },
  {
   "cell_type": "code",
   "outputs": [],
   "source": [
    "queue"
   ],
   "metadata": {
    "collapsed": false
   },
   "execution_count": null
  },
  {
   "cell_type": "code",
   "outputs": [],
   "source": [
    "R.FR"
   ],
   "metadata": {
    "collapsed": false
   },
   "execution_count": null
  },
  {
   "cell_type": "code",
   "outputs": [],
   "source": [
    "costs"
   ],
   "metadata": {
    "collapsed": false
   },
   "execution_count": null
  }
 ],
 "metadata": {
  "kernelspec": {
   "display_name": "Python 3",
   "language": "python",
   "name": "python3"
  },
  "language_info": {
   "codemirror_mode": {
    "name": "ipython",
    "version": 2
   },
   "file_extension": ".py",
   "mimetype": "text/x-python",
   "name": "python",
   "nbconvert_exporter": "python",
   "pygments_lexer": "ipython2",
   "version": "2.7.6"
  }
 },
 "nbformat": 4,
 "nbformat_minor": 0
}
