{
 "cells": [
  {
   "cell_type": "code",
   "execution_count": 1,
   "metadata": {
    "collapsed": true,
    "ExecuteTime": {
     "end_time": "2024-01-17T06:07:41.149358300Z",
     "start_time": "2024-01-17T06:07:41.141358900Z"
    }
   },
   "outputs": [],
   "source": [
    "import random"
   ]
  },
  {
   "cell_type": "code",
   "execution_count": 7,
   "outputs": [],
   "source": [
    "from utils.HyperGraph import HyperGraph\n",
    "\n",
    "n = 10\n",
    "r = 10\n",
    "elements = list(range(n))\n",
    "R = HyperGraph(elements)\n",
    "weights = [random.uniform(0.0,0.8) for i in range(n)]\n",
    "costs = {}\n",
    "for i in range(n):\n",
    "    costs[i] = weights[i]\n",
    "for i in range(r):\n",
    "    rr  = random.sample(elements,random.randint(1,n))\n",
    "    R.add_edge(i,rr)\n",
    "    for v in rr:\n",
    "        R.add_fr(v,i)"
   ],
   "metadata": {
    "collapsed": false,
    "ExecuteTime": {
     "end_time": "2024-01-17T06:12:06.241879300Z",
     "start_time": "2024-01-17T06:12:06.228878400Z"
    }
   }
  },
  {
   "cell_type": "code",
   "outputs": [
    {
     "data": {
      "text/plain": "[9, 2, 8, 4, 7]"
     },
     "execution_count": 8,
     "metadata": {},
     "output_type": "execute_result"
    }
   ],
   "source": [
    "from stable_matching.TaskWorker import BChoice\n",
    "\n",
    "S = []\n",
    "choice_func = BChoice(S,R,1.0,costs)\n",
    "queue = random.sample(elements,random.randint(0,n))\n",
    "for e in queue:\n",
    "    choice_func.choose(e)\n",
    "S"
   ],
   "metadata": {
    "collapsed": false,
    "ExecuteTime": {
     "end_time": "2024-01-17T06:12:08.035364700Z",
     "start_time": "2024-01-17T06:12:08.019365300Z"
    }
   },
   "execution_count": 8
  },
  {
   "cell_type": "code",
   "outputs": [
    {
     "data": {
      "text/plain": "[9, 2, 8, 3, 1, 4, 0, 7]"
     },
     "execution_count": 12,
     "metadata": {},
     "output_type": "execute_result"
    }
   ],
   "source": [
    "queue"
   ],
   "metadata": {
    "collapsed": false,
    "ExecuteTime": {
     "end_time": "2024-01-17T06:12:48.450010800Z",
     "start_time": "2024-01-17T06:12:48.442854Z"
    }
   },
   "execution_count": 12
  },
  {
   "cell_type": "code",
   "outputs": [
    {
     "data": {
      "text/plain": "{0: [1, 2, 5, 6, 8, 9],\n 1: [0, 1, 4],\n 2: [1, 2, 4, 5],\n 3: [0, 1, 2, 5, 8],\n 4: [0, 1, 5, 7, 8],\n 5: [1, 2, 4, 5, 6, 7],\n 6: [1, 2, 3, 4, 5],\n 7: [1, 2, 3, 5],\n 8: [0, 1, 2, 5, 6, 8],\n 9: [0, 5, 8]}"
     },
     "execution_count": 11,
     "metadata": {},
     "output_type": "execute_result"
    }
   ],
   "source": [
    "R.FR"
   ],
   "metadata": {
    "collapsed": false,
    "ExecuteTime": {
     "end_time": "2024-01-17T06:12:31.783983Z",
     "start_time": "2024-01-17T06:12:31.762982500Z"
    }
   },
   "execution_count": 11
  },
  {
   "cell_type": "code",
   "outputs": [
    {
     "data": {
      "text/plain": "{0: 0.31940112770850954,\n 1: 0.5428431736077551,\n 2: 0.23995271947432234,\n 3: 0.6250721596818085,\n 4: 0.41070598926129254,\n 5: 0.20612844260007038,\n 6: 0.7160407168013627,\n 7: 0.1042388245715972,\n 8: 0.20919159495203782,\n 9: 0.4493757692916129}"
     },
     "execution_count": 10,
     "metadata": {},
     "output_type": "execute_result"
    }
   ],
   "source": [
    "costs"
   ],
   "metadata": {
    "collapsed": false,
    "ExecuteTime": {
     "end_time": "2024-01-17T06:12:14.273975100Z",
     "start_time": "2024-01-17T06:12:14.255974600Z"
    }
   },
   "execution_count": 10
  }
 ],
 "metadata": {
  "kernelspec": {
   "display_name": "Python 3",
   "language": "python",
   "name": "python3"
  },
  "language_info": {
   "codemirror_mode": {
    "name": "ipython",
    "version": 2
   },
   "file_extension": ".py",
   "mimetype": "text/x-python",
   "name": "python",
   "nbconvert_exporter": "python",
   "pygments_lexer": "ipython2",
   "version": "2.7.6"
  }
 },
 "nbformat": 4,
 "nbformat_minor": 0
}
