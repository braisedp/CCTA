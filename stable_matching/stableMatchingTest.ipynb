{
 "cells": [
  {
   "cell_type": "code",
   "execution_count": 1,
   "outputs": [],
   "source": [
    "import random\n",
    "from HospitalResident import Hospital,Doctor\n",
    "from stableMatching import generalized_da,heuristic"
   ],
   "metadata": {
    "collapsed": false,
    "ExecuteTime": {
     "end_time": "2023-12-13T11:18:36.261546900Z",
     "start_time": "2023-12-13T11:18:36.231609800Z"
    }
   }
  },
  {
   "cell_type": "code",
   "execution_count": 2,
   "metadata": {
    "collapsed": true,
    "ExecuteTime": {
     "end_time": "2023-12-13T11:18:37.267704100Z",
     "start_time": "2023-12-13T11:18:37.239443300Z"
    }
   },
   "outputs": [],
   "source": [
    "hospitals = [Hospital(i, 2) for i in range(3)]\n",
    "w = random.sample([i for i in range(20,100)],9)\n",
    "doctors = [Doctor(i,w[i]) for i in range(9)]"
   ]
  },
  {
   "cell_type": "code",
   "execution_count": 3,
   "outputs": [],
   "source": [
    "for h in hospitals:\n",
    "    h.refresh()\n",
    "for d in doctors:\n",
    "    d.refresh()\n",
    "generalized_da(hospitals, doctors)"
   ],
   "metadata": {
    "collapsed": false,
    "ExecuteTime": {
     "end_time": "2023-12-13T11:18:38.870189300Z",
     "start_time": "2023-12-13T11:18:38.847226700Z"
    }
   }
  },
  {
   "cell_type": "code",
   "execution_count": 4,
   "outputs": [
    {
     "name": "stdout",
     "output_type": "stream",
     "text": [
      "doctor:0,weight:20,preference:[1, 2, 0]\n",
      "doctor:1,weight:94,preference:[0, 2, 1]\n",
      "doctor:2,weight:71,preference:[0, 2, 1]\n",
      "doctor:3,weight:35,preference:[1, 2, 0]\n",
      "doctor:4,weight:40,preference:[2, 1, 0]\n",
      "doctor:5,weight:99,preference:[0, 2, 1]\n",
      "doctor:6,weight:70,preference:[0, 1, 2]\n",
      "doctor:7,weight:48,preference:[0, 1, 2]\n",
      "doctor:8,weight:89,preference:[0, 1, 2]\n"
     ]
    }
   ],
   "source": [
    "for doctor in doctors:\n",
    "    p = sorted(doctor.preference.keys(),key=lambda x: doctor.preference[x])\n",
    "    print('doctor:{},weight:{},preference:{}'.format(doctor.i,doctor.score,[h.i for h in p]))"
   ],
   "metadata": {
    "collapsed": false,
    "ExecuteTime": {
     "end_time": "2023-12-13T11:18:40.370008100Z",
     "start_time": "2023-12-13T11:18:40.339024100Z"
    }
   }
  },
  {
   "cell_type": "code",
   "execution_count": 5,
   "outputs": [
    {
     "name": "stdout",
     "output_type": "stream",
     "text": [
      "hospital:0,doctors:[6, 5]\n",
      "hospital:1,doctors:[0, 8]\n",
      "hospital:2,doctors:[4, 1]\n"
     ]
    }
   ],
   "source": [
    "for hospital in hospitals:\n",
    "    print('hospital:{},doctors:{}'.format(hospital.i, [d.i for d in hospital.doctors]))"
   ],
   "metadata": {
    "collapsed": false,
    "ExecuteTime": {
     "end_time": "2023-12-13T11:18:55.332743500Z",
     "start_time": "2023-12-13T11:18:55.309805800Z"
    }
   }
  },
  {
   "cell_type": "code",
   "execution_count": 15,
   "outputs": [],
   "source": [
    "for h in hospitals:\n",
    "    h.refresh()\n",
    "for d in doctors:\n",
    "    d.refresh()\n",
    "heuristic(hospitals, doctors, 100)"
   ],
   "metadata": {
    "collapsed": false,
    "ExecuteTime": {
     "end_time": "2023-12-13T11:22:32.565297600Z",
     "start_time": "2023-12-13T11:22:32.539297Z"
    }
   }
  },
  {
   "cell_type": "code",
   "execution_count": 16,
   "outputs": [
    {
     "name": "stdout",
     "output_type": "stream",
     "text": [
      "hospital:0,doctors:[0, 2]\n",
      "hospital:1,doctors:[1, 3]\n",
      "hospital:2,doctors:[4, 5]\n"
     ]
    }
   ],
   "source": [
    "for hospital in hospitals:\n",
    "    print('hospital:{},doctors:{}'.format(hospital.i, [d.i for d in hospital.doctors]))"
   ],
   "metadata": {
    "collapsed": false,
    "ExecuteTime": {
     "end_time": "2023-12-13T11:22:33.715984300Z",
     "start_time": "2023-12-13T11:22:33.670564800Z"
    }
   }
  }
 ],
 "metadata": {
  "kernelspec": {
   "display_name": "Python 3",
   "language": "python",
   "name": "python3"
  },
  "language_info": {
   "codemirror_mode": {
    "name": "ipython",
    "version": 2
   },
   "file_extension": ".py",
   "mimetype": "text/x-python",
   "name": "python",
   "nbconvert_exporter": "python",
   "pygments_lexer": "ipython2",
   "version": "2.7.6"
  }
 },
 "nbformat": 4,
 "nbformat_minor": 0
}
