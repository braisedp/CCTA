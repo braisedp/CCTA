{
 "cells": [
  {
   "cell_type": "code",
   "execution_count": 1,
   "outputs": [],
   "source": [
    "import random\n",
    "from HospitalResident import Hospital,Doctor\n",
    "from stableMatching import generalized_da,heuristic"
   ],
   "metadata": {
    "collapsed": false,
    "ExecuteTime": {
     "end_time": "2023-12-13T11:18:36.261546900Z",
     "start_time": "2023-12-13T11:18:36.231609800Z"
    }
   }
  },
  {
   "cell_type": "code",
   "execution_count": 2,
   "metadata": {
    "collapsed": true,
    "ExecuteTime": {
     "end_time": "2023-12-13T11:18:37.267704100Z",
     "start_time": "2023-12-13T11:18:37.239443300Z"
    }
   },
   "outputs": [],
   "source": [
    "hospitals = [Hospital(i, 2) for i in range(3)]\n",
    "w = random.sample([i for i in range(20,100)],9)\n",
    "doctors = [Doctor(i,w[i]) for i in range(9)]"
   ]
  },
  {
   "cell_type": "code",
   "execution_count": 3,
   "outputs": [],
   "source": [
    "for h in hospitals:\n",
    "    h.refresh()\n",
    "for d in doctors:\n",
    "    d.refresh()\n",
    "generalized_da(hospitals, doctors)"
   ],
   "metadata": {
    "collapsed": false,
    "ExecuteTime": {
     "end_time": "2023-12-13T11:18:38.870189300Z",
     "start_time": "2023-12-13T11:18:38.847226700Z"
    }
   }
  },
  {
   "cell_type": "code",
   "execution_count": 4,
   "outputs": [
    {
     "name": "stdout",
     "output_type": "stream",
     "text": [
      "doctor:0,weight:20,preference:[1, 2, 0]\n",
      "doctor:1,weight:94,preference:[0, 2, 1]\n",
      "doctor:2,weight:71,preference:[0, 2, 1]\n",
      "doctor:3,weight:35,preference:[1, 2, 0]\n",
      "doctor:4,weight:40,preference:[2, 1, 0]\n",
      "doctor:5,weight:99,preference:[0, 2, 1]\n",
      "doctor:6,weight:70,preference:[0, 1, 2]\n",
      "doctor:7,weight:48,preference:[0, 1, 2]\n",
      "doctor:8,weight:89,preference:[0, 1, 2]\n"
     ]
    }
   ],
   "source": [
    "for doctor in doctors:\n",
    "    p = sorted(doctor.preference.keys(),key=lambda x: doctor.preference[x])\n",
    "    print('doctor:{},weight:{},preference:{}'.format(doctor.i,doctor.score,[h.i for h in p]))"
   ],
   "metadata": {
    "collapsed": false,
    "ExecuteTime": {
     "end_time": "2023-12-13T11:18:40.370008100Z",
     "start_time": "2023-12-13T11:18:40.339024100Z"
    }
   }
  },
  {
   "cell_type": "code",
   "execution_count": 5,
   "outputs": [
    {
     "name": "stdout",
     "output_type": "stream",
     "text": [
      "hospital:0,doctors:[6, 5]\n",
      "hospital:1,doctors:[0, 8]\n",
      "hospital:2,doctors:[4, 1]\n"
     ]
    }
   ],
   "source": [
    "for hospital in hospitals:\n",
    "    print('hospital:{},doctors:{}'.format(hospital.i, [d.i for d in hospital.doctors]))"
   ],
   "metadata": {
    "collapsed": false,
    "ExecuteTime": {
     "end_time": "2023-12-13T11:18:55.332743500Z",
     "start_time": "2023-12-13T11:18:55.309805800Z"
    }
   }
  },
  {
   "cell_type": "code",
   "execution_count": 15,
   "outputs": [],
   "source": [
    "for h in hospitals:\n",
    "    h.refresh()\n",
    "for d in doctors:\n",
    "    d.refresh()\n",
    "heuristic(hospitals, doctors, 100)"
   ],
   "metadata": {
    "collapsed": false,
    "ExecuteTime": {
     "end_time": "2023-12-13T11:22:32.565297600Z",
     "start_time": "2023-12-13T11:22:32.539297Z"
    }
   }
  },
  {
   "cell_type": "code",
   "execution_count": 16,
   "outputs": [
    {
     "name": "stdout",
     "output_type": "stream",
     "text": [
      "hospital:0,doctors:[0, 2]\n",
      "hospital:1,doctors:[1, 3]\n",
      "hospital:2,doctors:[4, 5]\n"
     ]
    }
   ],
   "source": [
    "for hospital in hospitals:\n",
    "    print('hospital:{},doctors:{}'.format(hospital.i, [d.i for d in hospital.doctors]))"
   ],
   "metadata": {
    "collapsed": false,
    "ExecuteTime": {
     "end_time": "2023-12-13T11:22:33.715984300Z",
     "start_time": "2023-12-13T11:22:33.670564800Z"
    }
   }
  },
  {
   "cell_type": "code",
   "execution_count": 1,
   "outputs": [],
   "source": [
    "from TaskWorker import Task,Worker\n",
    "import random\n",
    "n = 2\n",
    "m = 5"
   ],
   "metadata": {
    "collapsed": false,
    "ExecuteTime": {
     "end_time": "2023-12-20T12:40:54.077187900Z",
     "start_time": "2023-12-20T12:40:54.053454Z"
    }
   }
  },
  {
   "cell_type": "code",
   "execution_count": 2,
   "outputs": [],
   "source": [
    "workers = []\n",
    "for i in range(m):\n",
    "    workers.append(Worker(i))"
   ],
   "metadata": {
    "collapsed": false,
    "ExecuteTime": {
     "end_time": "2023-12-20T12:40:54.981168200Z",
     "start_time": "2023-12-20T12:40:54.960198700Z"
    }
   }
  },
  {
   "cell_type": "code",
   "execution_count": 3,
   "outputs": [],
   "source": [
    "tasks = []\n",
    "for i in range(n):\n",
    "    r = 3\n",
    "    R = [random.sample(workers,random.randint(1,5)) for _ in range(r)]\n",
    "    tasks.append(Task(ID = i, budget = 1.0, R = R, Q = 1.0))"
   ],
   "metadata": {
    "collapsed": false,
    "ExecuteTime": {
     "end_time": "2023-12-20T12:40:56.116874700Z",
     "start_time": "2023-12-20T12:40:56.094936500Z"
    }
   }
  },
  {
   "cell_type": "code",
   "execution_count": 4,
   "outputs": [],
   "source": [
    "for w in workers:\n",
    "    values = {}\n",
    "    for t in tasks:\n",
    "        values[t] = random.random()\n",
    "    w.set_preference(values)\n",
    "\n",
    "for t in tasks:\n",
    "    costs = {}\n",
    "    for w in workers:\n",
    "        costs[w] = random.uniform(0.01,0.8)\n",
    "    t.set_costs(costs,10)"
   ],
   "metadata": {
    "collapsed": false,
    "ExecuteTime": {
     "end_time": "2023-12-20T12:40:57.245161800Z",
     "start_time": "2023-12-20T12:40:57.193265100Z"
    }
   }
  },
  {
   "cell_type": "code",
   "execution_count": 5,
   "outputs": [
    {
     "data": {
      "text/plain": "({0: [[4, 1, 2, 3], [0, 2, 3], [4]], 1: [[4], [4, 0, 1, 3], [4, 0]]},\n {0: {0: 0.7502469162304317,\n   1: 0.3944895363335163,\n   2: 0.6039178146489997,\n   3: 0.18768426973072855,\n   4: 0.03737705674860981},\n  1: {0: 0.6974645150864143,\n   1: 0.7048149500933184,\n   2: 0.11081180065505886,\n   3: 0.6928218971449941,\n   4: 0.5253959995580318}},\n {0: [0, 1], 1: [0, 1], 2: [0, 1], 3: [1, 0], 4: [1, 0]})"
     },
     "execution_count": 5,
     "metadata": {},
     "output_type": "execute_result"
    }
   ],
   "source": [
    "r = {}\n",
    "c = {}\n",
    "p = {}\n",
    "for w in workers:\n",
    "    p[w.id] = [t.id for t in w.preference_list()]\n",
    "\n",
    "for t in tasks:\n",
    "    r[t.id] = [[w.id for w in rr] for rr in t.R]\n",
    "    c[t.id] = {}\n",
    "    for w in workers:\n",
    "        c[t.id][w.id] = t.costs[w]\n",
    "r,c,p"
   ],
   "metadata": {
    "collapsed": false,
    "ExecuteTime": {
     "end_time": "2023-12-20T12:40:59.054434900Z",
     "start_time": "2023-12-20T12:40:59.029937700Z"
    }
   }
  },
  {
   "cell_type": "code",
   "execution_count": 6,
   "outputs": [],
   "source": [
    "from stableMatching import  generalized_da\n",
    "for t in tasks:\n",
    "    t.refresh()\n",
    "for w in workers:\n",
    "    w.refresh()\n",
    "generalized_da(tasks,workers)"
   ],
   "metadata": {
    "collapsed": false,
    "ExecuteTime": {
     "end_time": "2023-12-20T12:41:00.878378800Z",
     "start_time": "2023-12-20T12:41:00.852419600Z"
    }
   }
  },
  {
   "cell_type": "code",
   "execution_count": 7,
   "outputs": [
    {
     "data": {
      "text/plain": "{0: [1], 1: [2, 4]}"
     },
     "execution_count": 7,
     "metadata": {},
     "output_type": "execute_result"
    }
   ],
   "source": [
    "ans = {}\n",
    "for t in tasks:\n",
    "    ans[t.id] = [w.id for w in t.students()]\n",
    "ans"
   ],
   "metadata": {
    "collapsed": false,
    "ExecuteTime": {
     "end_time": "2023-12-20T12:41:02.611238100Z",
     "start_time": "2023-12-20T12:41:02.587266400Z"
    }
   }
  },
  {
   "cell_type": "code",
   "execution_count": 8,
   "outputs": [],
   "source": [
    "from stableMatching import heuristic\n",
    "for t in tasks:\n",
    "    t.refresh()\n",
    "for w in workers:\n",
    "    w.refresh()\n",
    "heuristic(tasks,workers,100)"
   ],
   "metadata": {
    "collapsed": false,
    "ExecuteTime": {
     "end_time": "2023-12-20T12:41:04.283173400Z",
     "start_time": "2023-12-20T12:41:04.258936400Z"
    }
   }
  },
  {
   "cell_type": "code",
   "execution_count": 9,
   "outputs": [
    {
     "data": {
      "text/plain": "{0: [3], 1: [4]}"
     },
     "execution_count": 9,
     "metadata": {},
     "output_type": "execute_result"
    }
   ],
   "source": [
    "ans = {}\n",
    "for t in tasks:\n",
    "    ans[t.id] = [w.id for w in t.students()]\n",
    "ans"
   ],
   "metadata": {
    "collapsed": false,
    "ExecuteTime": {
     "end_time": "2023-12-20T12:41:05.438356500Z",
     "start_time": "2023-12-20T12:41:05.418410800Z"
    }
   }
  }
 ],
 "metadata": {
  "kernelspec": {
   "display_name": "Python 3",
   "language": "python",
   "name": "python3"
  },
  "language_info": {
   "codemirror_mode": {
    "name": "ipython",
    "version": 2
   },
   "file_extension": ".py",
   "mimetype": "text/x-python",
   "name": "python",
   "nbconvert_exporter": "python",
   "pygments_lexer": "ipython2",
   "version": "2.7.6"
  }
 },
 "nbformat": 4,
 "nbformat_minor": 0
}
