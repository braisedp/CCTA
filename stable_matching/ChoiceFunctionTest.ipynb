{
 "cells": [
  {
   "cell_type": "code",
   "execution_count": 70,
   "metadata": {
    "collapsed": true,
    "ExecuteTime": {
     "end_time": "2023-12-18T11:22:38.153460100Z",
     "start_time": "2023-12-18T11:22:38.128806800Z"
    }
   },
   "outputs": [],
   "source": [
    "import random\n",
    "import math"
   ]
  },
  {
   "cell_type": "code",
   "execution_count": 71,
   "outputs": [],
   "source": [
    "def q(RR, Q, es):\n",
    "    theta = len(RR)\n",
    "    count = 0\n",
    "    for rr in RR:\n",
    "        I = 0\n",
    "        for e in es:\n",
    "            if e in rr:\n",
    "                I = 1\n",
    "                break\n",
    "        count += I\n",
    "    return Q * count / theta"
   ],
   "metadata": {
    "collapsed": false,
    "ExecuteTime": {
     "end_time": "2023-12-18T11:22:39.010147800Z",
     "start_time": "2023-12-18T11:22:38.982336300Z"
    }
   }
  },
  {
   "cell_type": "code",
   "execution_count": 72,
   "outputs": [],
   "source": [
    "n = 5\n",
    "r = 5\n",
    "elements = list(range(n))\n",
    "weights = [random.uniform(0.0,0.8) for i in range(n)]\n",
    "costs = {}\n",
    "for i in range(n):\n",
    "    costs[i] = weights[i]\n",
    "\n",
    "R = [random.sample(list(range(n)),random.randint(1,n)) for i in range(r)]"
   ],
   "metadata": {
    "collapsed": false,
    "ExecuteTime": {
     "end_time": "2023-12-18T11:22:40.437994300Z",
     "start_time": "2023-12-18T11:22:40.419018Z"
    }
   }
  },
  {
   "cell_type": "code",
   "execution_count": 73,
   "outputs": [],
   "source": [
    "from TaskWorker import MatroidConstraint\n",
    "\n",
    "constraint = MatroidConstraint(1.0,n,costs)"
   ],
   "metadata": {
    "collapsed": false,
    "ExecuteTime": {
     "end_time": "2023-12-18T11:22:41.713496800Z",
     "start_time": "2023-12-18T11:22:41.701529700Z"
    }
   }
  },
  {
   "cell_type": "code",
   "execution_count": 74,
   "outputs": [],
   "source": [
    "S = []\n",
    "A = []\n",
    "W = {}\n",
    "U = 0.0\n",
    "Q = 2.0\n",
    "random.shuffle(elements)"
   ],
   "metadata": {
    "collapsed": false,
    "ExecuteTime": {
     "end_time": "2023-12-18T11:22:42.839514800Z",
     "start_time": "2023-12-18T11:22:42.812554300Z"
    }
   }
  },
  {
   "cell_type": "code",
   "execution_count": 75,
   "outputs": [],
   "source": [
    "for e in elements:\n",
    "    weight = q(R, Q, A + [e]) - U\n",
    "    if constraint.satisfy(S+[e]):\n",
    "        S.append(e)\n",
    "        A.append(e)\n",
    "        W[e] = weight\n",
    "        U += weight\n",
    "    else:\n",
    "        w_ = None\n",
    "        min_ = math.inf\n",
    "        for w in S:\n",
    "            S_ = S.copy()\n",
    "            S_.remove(w)\n",
    "            S_.append(e)\n",
    "            if W[w] < min_ and constraint.satisfy(S_):\n",
    "                w_ = w\n",
    "                min_ = w\n",
    "        if w_ is not None:\n",
    "            if weight > constraint.r * W[w_]:\n",
    "                S.append(e)\n",
    "                S.remove(w_)\n",
    "                A.append(e)\n",
    "                W[e] = weight\n",
    "                U += weight"
   ],
   "metadata": {
    "collapsed": false,
    "ExecuteTime": {
     "end_time": "2023-12-18T11:22:44.243695900Z",
     "start_time": "2023-12-18T11:22:44.224749600Z"
    }
   }
  },
  {
   "cell_type": "code",
   "execution_count": 76,
   "outputs": [
    {
     "data": {
      "text/plain": "([1, 3, 4],\n [0.6200060358617766, 0.10777253082676355, 0.07124543554826489],\n 2.0,\n 2.0)"
     },
     "execution_count": 76,
     "metadata": {},
     "output_type": "execute_result"
    }
   ],
   "source": [
    "S, [costs[i] for i in S], q(R,Q,S), U"
   ],
   "metadata": {
    "collapsed": false,
    "ExecuteTime": {
     "end_time": "2023-12-18T11:22:46.162947600Z",
     "start_time": "2023-12-18T11:22:46.125954200Z"
    }
   }
  },
  {
   "cell_type": "code",
   "execution_count": 77,
   "outputs": [],
   "source": [
    "from TaskWorker import BudgetConstraint\n",
    "\n",
    "S_ = []\n",
    "constraint = BudgetConstraint(1.0,costs)\n",
    "\n",
    "while True:\n",
    "    v_max = 0\n",
    "    v_e = None\n",
    "    for e in elements:\n",
    "        if e in S_:\n",
    "            continue\n",
    "        v = q(R,Q,S_+[e])/costs[e]\n",
    "        if v > v_max:\n",
    "            v_max = v\n",
    "            v_e = e\n",
    "    if constraint.satisfy(S_+[v_e]):\n",
    "        S_.append(v_e)\n",
    "    else:\n",
    "        break"
   ],
   "metadata": {
    "collapsed": false,
    "ExecuteTime": {
     "end_time": "2023-12-18T11:22:49.518633500Z",
     "start_time": "2023-12-18T11:22:49.498102400Z"
    }
   }
  },
  {
   "cell_type": "code",
   "execution_count": 78,
   "outputs": [
    {
     "data": {
      "text/plain": "([3, 4, 0],\n [0.10777253082676355, 0.07124543554826489, 0.4821864538499416],\n 2.0)"
     },
     "execution_count": 78,
     "metadata": {},
     "output_type": "execute_result"
    }
   ],
   "source": [
    "S_, [costs[i] for i in S_], q(R,Q,S_)"
   ],
   "metadata": {
    "collapsed": false,
    "ExecuteTime": {
     "end_time": "2023-12-18T11:22:51.425730200Z",
     "start_time": "2023-12-18T11:22:51.401795600Z"
    }
   }
  },
  {
   "cell_type": "code",
   "execution_count": 79,
   "outputs": [
    {
     "data": {
      "text/plain": "[[1, 0], [4, 1], [0, 1], [0, 3], [3, 0, 1]]"
     },
     "execution_count": 79,
     "metadata": {},
     "output_type": "execute_result"
    }
   ],
   "source": [
    "R"
   ],
   "metadata": {
    "collapsed": false,
    "ExecuteTime": {
     "end_time": "2023-12-18T11:23:22.855649500Z",
     "start_time": "2023-12-18T11:23:22.834707100Z"
    }
   }
  }
 ],
 "metadata": {
  "kernelspec": {
   "display_name": "Python 3",
   "language": "python",
   "name": "python3"
  },
  "language_info": {
   "codemirror_mode": {
    "name": "ipython",
    "version": 2
   },
   "file_extension": ".py",
   "mimetype": "text/x-python",
   "name": "python",
   "nbconvert_exporter": "python",
   "pygments_lexer": "ipython2",
   "version": "2.7.6"
  }
 },
 "nbformat": 4,
 "nbformat_minor": 0
}
