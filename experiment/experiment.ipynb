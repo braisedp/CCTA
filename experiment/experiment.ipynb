{
 "cells": [
  {
   "cell_type": "code",
   "execution_count": 9,
   "id": "initial_id",
   "metadata": {
    "collapsed": true,
    "ExecuteTime": {
     "end_time": "2024-01-20T04:14:03.597868200Z",
     "start_time": "2024-01-20T04:14:03.573165500Z"
    }
   },
   "outputs": [],
   "source": [
    "import math\n",
    "import random\n",
    "import time\n",
    "from graph.graph import read_graph_from_csv"
   ]
  },
  {
   "cell_type": "code",
   "outputs": [],
   "source": [
    "graph_file = '../graphs/dash/dash.csv'"
   ],
   "metadata": {
    "collapsed": false,
    "ExecuteTime": {
     "end_time": "2024-01-20T04:14:03.598370900Z",
     "start_time": "2024-01-20T04:14:03.576259100Z"
    }
   },
   "id": "2ed0da0f38d57e63",
   "execution_count": 10
  },
  {
   "cell_type": "code",
   "outputs": [],
   "source": [
    "m = 10 # number of tasks\n",
    "n = 100 # number of candidate workers"
   ],
   "metadata": {
    "collapsed": false,
    "ExecuteTime": {
     "end_time": "2024-01-20T04:14:03.598884300Z",
     "start_time": "2024-01-20T04:14:03.580839900Z"
    }
   },
   "id": "b7618e7c6ee37663",
   "execution_count": 11
  },
  {
   "cell_type": "markdown",
   "source": [
    "initialize workers by their ids"
   ],
   "metadata": {
    "collapsed": false
   },
   "id": "20676102a26d9aad"
  },
  {
   "cell_type": "code",
   "outputs": [],
   "source": [
    "from stable_matching.TaskWorker import Worker\n",
    "\n",
    "g = read_graph_from_csv(graph_file,0)\n",
    "workers = []\n",
    "worker_ids = random.sample(list(g.nodes.keys()),n)\n",
    "for i in range(n):\n",
    "    workers.append(Worker(idx = worker_ids[i]))\n",
    "del g"
   ],
   "metadata": {
    "collapsed": false,
    "ExecuteTime": {
     "end_time": "2024-01-20T04:14:05.256426200Z",
     "start_time": "2024-01-20T04:14:03.586010900Z"
    }
   },
   "id": "efd10873db00b32f",
   "execution_count": 12
  },
  {
   "cell_type": "markdown",
   "source": [
    "initialize tasks : (ids, budget, reverse reachable set, Q)"
   ],
   "metadata": {
    "collapsed": false
   },
   "id": "e32982c105cabea8"
  },
  {
   "cell_type": "code",
   "outputs": [
    {
     "name": "stdout",
     "output_type": "stream",
     "text": [
      "budget:10\n",
      "k:11\n",
      "i_max:35\n",
      "time to generate RR:0.891887903213501\n",
      "budget:7\n",
      "k:8\n",
      "i_max:35\n",
      "time to generate RR:3.3120219707489014\n",
      "budget:24\n",
      "k:27\n",
      "i_max:33\n",
      "time to generate RR:0.6801424026489258\n",
      "budget:10\n",
      "k:11\n",
      "i_max:35\n",
      "time to generate RR:1.8207504749298096\n",
      "budget:11\n",
      "k:13\n",
      "i_max:34\n",
      "time to generate RR:2.11824631690979\n",
      "budget:5\n",
      "k:6\n",
      "i_max:35\n",
      "time to generate RR:6.105280637741089\n",
      "budget:10\n",
      "k:12\n",
      "i_max:35\n",
      "time to generate RR:4.042755365371704\n",
      "budget:14\n",
      "k:16\n",
      "i_max:34\n",
      "time to generate RR:1.364670753479004\n",
      "budget:4\n",
      "k:4\n",
      "i_max:36\n",
      "time to generate RR:11.171693086624146\n",
      "budget:5\n",
      "k:6\n",
      "i_max:35\n",
      "time to generate RR:1.7393584251403809\n"
     ]
    }
   ],
   "source": [
    "from graph.QIM import sampling\n",
    "from utils.funcs import max_k\n",
    "from stable_matching.TaskWorker import Task\n",
    "import scipy.stats as stats\n",
    "\n",
    "mu = 1.0\n",
    "sigma = 0.1\n",
    "\n",
    "tasks = []\n",
    "graph_ids = random.sample(range(100),m)\n",
    "\n",
    "# allocate budget to every task, sum of all budget is total_budget\n",
    "avg_budget  = 10\n",
    "total_budget = avg_budget * m\n",
    "points = [0]+sorted(random.sample(range(1,total_budget),m-1))+[total_budget]\n",
    "budgets = [points[i+1]-points[i] for i in range(len(points)-1)]\n",
    "\n",
    "for i in range(m):\n",
    "    G = read_graph_from_csv(graph_file,graph_ids[i])\n",
    "    \n",
    "    # generate cost of all candidate worker, task cost is generate from a trunc gaussian distribution mu = 1.0, sigma = 0.1, lb = 0.5, ub = 1.5\n",
    "    X = stats.truncnorm((0.5-mu)/sigma, (1.5-mu)/sigma, loc= mu, scale= sigma).rvs(n)\n",
    "    costs = {}\n",
    "    for j in range(n):\n",
    "        costs[workers[j]] = X[j]\n",
    "        \n",
    "    # values of all workers\n",
    "    values = {}\n",
    "    Q  = 0.0\n",
    "    for v in G.nodes:\n",
    "        values[v] = random.uniform(0.0, 1.0)\n",
    "        Q += values[v]\n",
    "        \n",
    "    budget = budgets[i]\n",
    "    print('budget:{}'.format(budget))\n",
    "    start = time.time()\n",
    "    # generate hyper graph of reverse reachable set in graph G\n",
    "    k = max_k(budget, costs)\n",
    "    print('k:{}'.format(k))\n",
    "    RR = sampling(graph=G, C=worker_ids, k=k, delta=1/n, epsilon=0.01, values=values)\n",
    "    print('time to generate RR:{}'.format(time.time()-start))\n",
    "    \n",
    "    #initialize tasks\n",
    "    tasks.append(Task(idx=i, budget=budget, R=RR, Q=Q))\n",
    "    tasks[i].initialize(costs)\n",
    "    tasks[i].set_choice_max_cover()"
   ],
   "metadata": {
    "collapsed": false,
    "ExecuteTime": {
     "end_time": "2024-01-20T04:14:54.884793300Z",
     "start_time": "2024-01-20T04:14:05.261506300Z"
    }
   },
   "id": "69807a6570b5fb1f",
   "execution_count": 13
  },
  {
   "cell_type": "code",
   "outputs": [],
   "source": [
    "for worker in workers:\n",
    "    value_dict = {}\n",
    "    for t in tasks:\n",
    "        value_dict[t] = random.random()\n",
    "    worker.set_preference(value_dict)"
   ],
   "metadata": {
    "collapsed": false,
    "ExecuteTime": {
     "end_time": "2024-01-20T04:14:54.885307900Z",
     "start_time": "2024-01-20T04:14:54.876118700Z"
    }
   },
   "id": "f93b389c3e87b375",
   "execution_count": 14
  },
  {
   "cell_type": "code",
   "outputs": [],
   "source": [
    "from stable_matching.stableMatching import generalized_da\n",
    "for t in tasks:\n",
    "    t.refresh()\n",
    "for w in workers:\n",
    "    w.refresh()\n",
    "generalized_da(tasks,workers)"
   ],
   "metadata": {
    "collapsed": false,
    "ExecuteTime": {
     "end_time": "2024-01-20T04:14:58.615026Z",
     "start_time": "2024-01-20T04:14:58.610388600Z"
    }
   },
   "id": "ce9ffdc753e46007",
   "execution_count": 15
  },
  {
   "cell_type": "code",
   "outputs": [],
   "source": [
    "result_dict = {}"
   ],
   "metadata": {
    "collapsed": false,
    "ExecuteTime": {
     "end_time": "2024-01-20T04:15:12.617875200Z",
     "start_time": "2024-01-20T04:15:12.606675600Z"
    }
   },
   "id": "30ca0f67d4ad52fd",
   "execution_count": 16
  },
  {
   "cell_type": "code",
   "outputs": [],
   "source": [
    "from stable_matching.TaskWorker import outward_satisfactory\n",
    "result_dict['outward_satisfactory'] = outward_satisfactory(tasks,workers)"
   ],
   "metadata": {
    "collapsed": false,
    "ExecuteTime": {
     "end_time": "2024-01-20T04:15:13.558410800Z",
     "start_time": "2024-01-20T04:15:13.544560800Z"
    }
   },
   "id": "842caecf63e10a7a",
   "execution_count": 17
  },
  {
   "cell_type": "code",
   "outputs": [],
   "source": [
    "from stable_matching.TaskWorker import individual_rationality_tasks\n",
    "result_dict['individual_rationality'] = individual_rationality_tasks(tasks)"
   ],
   "metadata": {
    "collapsed": false,
    "ExecuteTime": {
     "end_time": "2024-01-20T04:15:15.974941300Z",
     "start_time": "2024-01-20T04:15:15.964097200Z"
    }
   },
   "id": "c61a14c7eec17d7c",
   "execution_count": 18
  },
  {
   "cell_type": "code",
   "outputs": [],
   "source": [
    "from stable_matching.TaskWorker import gamma_workers\n",
    "Sum = 0\n",
    "Max = 0\n",
    "Min = 1000\n",
    "for task in tasks:\n",
    "    q =  task.Q * gamma_workers(task.R,task.students())/len(task.R)/task.budget \n",
    "    Sum += q\n",
    "    if q> Max:\n",
    "        Max = q\n",
    "    if q< Min:\n",
    "        Min = q\n",
    "result_dict['average_density'] = Sum/len(tasks)\n",
    "result_dict['maximum_density'] = Max\n",
    "result_dict['minimum_density'] = Min"
   ],
   "metadata": {
    "collapsed": false,
    "ExecuteTime": {
     "end_time": "2024-01-20T04:15:16.920830200Z",
     "start_time": "2024-01-20T04:15:16.910079300Z"
    }
   },
   "id": "ce43302ed931a9c5",
   "execution_count": 19
  },
  {
   "cell_type": "code",
   "outputs": [
    {
     "data": {
      "text/plain": "{'outward_satisfactory': 0.9489795918367347,\n 'individual_rationality': [[10, 9.536486647802905],\n  [7, 6.583418247620438],\n  [24, 23.859772773309313],\n  [10, 8.934723303659581],\n  [11, 10.882985740302798],\n  [5, 4.849268677448115],\n  [10, 9.596755462770957],\n  [14, 13.923201745122213],\n  [4, 3.268803617317556],\n  [5, 4.782096358298838]],\n 'average_density': 1.7796835189486249,\n 'maximum_density': 2.723589152695055,\n 'minimum_density': 0.7870995794112239}"
     },
     "execution_count": 20,
     "metadata": {},
     "output_type": "execute_result"
    }
   ],
   "source": [
    "result_dict"
   ],
   "metadata": {
    "collapsed": false,
    "ExecuteTime": {
     "end_time": "2024-01-20T04:15:19.202328200Z",
     "start_time": "2024-01-20T04:15:19.190554300Z"
    }
   },
   "id": "54e0ebe3ce93337e",
   "execution_count": 20
  }
 ],
 "metadata": {
  "kernelspec": {
   "display_name": "Python 3",
   "language": "python",
   "name": "python3"
  },
  "language_info": {
   "codemirror_mode": {
    "name": "ipython",
    "version": 2
   },
   "file_extension": ".py",
   "mimetype": "text/x-python",
   "name": "python",
   "nbconvert_exporter": "python",
   "pygments_lexer": "ipython2",
   "version": "2.7.6"
  }
 },
 "nbformat": 4,
 "nbformat_minor": 5
}
