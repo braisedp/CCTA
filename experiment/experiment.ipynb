{
 "cells": [
  {
   "cell_type": "code",
   "execution_count": 1,
   "id": "initial_id",
   "metadata": {
    "collapsed": true,
    "ExecuteTime": {
     "end_time": "2024-01-23T13:06:42.121187100Z",
     "start_time": "2024-01-23T13:06:41.679071700Z"
    }
   },
   "outputs": [],
   "source": [
    "import math\n",
    "import random\n",
    "import time\n",
    "from graph.graph import read_graph_from_csv"
   ]
  },
  {
   "cell_type": "code",
   "outputs": [],
   "source": [
    "from ccta.Task import individual_rationality_tasks, calculate_influence_workers\n",
    "from ccta.estimation import fairness_pairwise, waste_pairwise\n",
    "\n",
    "def estimate(Tasks, Workers, ise=True):\n",
    "    if ise:\n",
    "        for task_ in Tasks:\n",
    "            task_.estimate()\n",
    "    result_dict = {'fairness-pairwise': fairness_pairwise(Tasks, Workers, ise),\n",
    "                   # 'overall_satisfactory': overall_satisfactory(tasks,workers,ise),\n",
    "                   'individual-rationality': individual_rationality_tasks(Tasks),\n",
    "                   'waste-pairwise': waste_pairwise(Tasks, Workers)}\n",
    "    result_dict['pairwise_satisfactory'] = result_dict['fairness-pairwise']-result_dict['waste-pairwise']\n",
    "    Sum = 0\n",
    "    Max = 0\n",
    "    Min = 1000000\n",
    "    for t_ in Tasks:\n",
    "        if len(t_.students()) <=0:\n",
    "            break\n",
    "        q = calculate_influence_workers(t_.students(), t_.G, t_.values)/t_.budget\n",
    "        Sum += q\n",
    "        if q > Max:\n",
    "            Max = q\n",
    "        if q < Min:\n",
    "            Min = q\n",
    "    result_dict['average-density'] = Sum/len(Tasks)\n",
    "    result_dict['maximum-density'] = Max\n",
    "    result_dict['minimum-density'] = Min\n",
    "    return result_dict"
   ],
   "metadata": {
    "collapsed": false,
    "ExecuteTime": {
     "end_time": "2024-01-23T13:06:42.153556700Z",
     "start_time": "2024-01-23T13:06:42.122188300Z"
    }
   },
   "id": "940949871e8ce1a9",
   "execution_count": 2
  },
  {
   "cell_type": "code",
   "outputs": [],
   "source": [
    "graph_file = '../graphs/dash/dash.csv'"
   ],
   "metadata": {
    "collapsed": false,
    "ExecuteTime": {
     "end_time": "2024-01-23T13:06:42.167887600Z",
     "start_time": "2024-01-23T13:06:42.153556700Z"
    }
   },
   "id": "2ed0da0f38d57e63",
   "execution_count": 3
  },
  {
   "cell_type": "code",
   "outputs": [],
   "source": [
    "m = 10 # number of tasks\n",
    "n = 100 # number of candidate workers\n",
    "avg_budget  = 10 \n",
    "min_cost = 0.05*avg_budget\n",
    "max_cost = 0.95*avg_budget"
   ],
   "metadata": {
    "collapsed": false,
    "ExecuteTime": {
     "end_time": "2024-01-23T13:06:42.184397900Z",
     "start_time": "2024-01-23T13:06:42.169887Z"
    }
   },
   "id": "b7618e7c6ee37663",
   "execution_count": 4
  },
  {
   "cell_type": "markdown",
   "source": [
    "initialize workers by their ids"
   ],
   "metadata": {
    "collapsed": false
   },
   "id": "20676102a26d9aad"
  },
  {
   "cell_type": "code",
   "outputs": [],
   "source": [
    "from ccta.Worker import Worker\n",
    "\n",
    "g = read_graph_from_csv(graph_file,0)\n",
    "workers = []\n",
    "worker_ids = random.sample(list(g.nodes.keys()),n)\n",
    "for i in range(n):\n",
    "    workers.append(Worker(idx = worker_ids[i]))\n",
    "del g"
   ],
   "metadata": {
    "collapsed": false,
    "ExecuteTime": {
     "end_time": "2024-01-23T13:06:43.762026600Z",
     "start_time": "2024-01-23T13:06:42.184397900Z"
    }
   },
   "id": "efd10873db00b32f",
   "execution_count": 5
  },
  {
   "cell_type": "markdown",
   "source": [
    "initialize costs and values of workers"
   ],
   "metadata": {
    "collapsed": false
   },
   "id": "e32982c105cabea8"
  },
  {
   "cell_type": "code",
   "outputs": [],
   "source": [
    "from graph.QIM import sampling\n",
    "from utils.funcs import max_k\n",
    "\n",
    "# allocate budget to every task, sum of all budget is total_budget\n",
    "max_variance = math.ceil(avg_budget/2)\n",
    "budgets = [random.uniform(avg_budget-max_variance,avg_budget+max_variance) for _ in range(m)]\n",
    "costs = {}\n",
    "values ={}\n",
    "Q = [0] * m\n",
    "g = read_graph_from_csv(graph_file,0)\n",
    "for i in range(m):\n",
    "    # generate cost of all candidate worker, task cost is generate from a trunc gaussian distribution mu = 1.0, sigma = 0.1, lb = 0.5, ub = 1.5\n",
    "    X = [random.uniform(min_cost, max_cost) for _ in range(n)]\n",
    "    costs[i] = {}\n",
    "    for j in range(n):\n",
    "        costs[i][workers[j]] = X[j]\n",
    "        \n",
    "    # values of all workers\n",
    "    values[i] = {}\n",
    "    \n",
    "    for v in g.nodes:\n",
    "        values[i][v] = random.uniform(0.0, 1.0)\n",
    "        Q[i] += values[i][v]\n",
    "del g"
   ],
   "metadata": {
    "collapsed": false,
    "ExecuteTime": {
     "end_time": "2024-01-23T13:06:45.374119800Z",
     "start_time": "2024-01-23T13:06:43.765025800Z"
    }
   },
   "id": "6d278371e33ea3f3",
   "execution_count": 6
  },
  {
   "cell_type": "markdown",
   "source": [
    "initialize tasks"
   ],
   "metadata": {
    "collapsed": false
   },
   "id": "89047f38cb766b1e"
  },
  {
   "cell_type": "code",
   "outputs": [
    {
     "name": "stderr",
     "output_type": "stream",
     "text": [
      "generate tasks:  60%|███▌  | 600/1.00k [00:36<00:24, 16.5B/s, task=5, time used=3.09, RR size=14177]\n"
     ]
    },
    {
     "ename": "KeyboardInterrupt",
     "evalue": "",
     "output_type": "error",
     "traceback": [
      "\u001B[1;31m---------------------------------------------------------------------------\u001B[0m",
      "\u001B[1;31mKeyboardInterrupt\u001B[0m                         Traceback (most recent call last)",
      "Cell \u001B[1;32mIn[7], line 13\u001B[0m\n\u001B[0;32m     11\u001B[0m \u001B[38;5;66;03m# generate hyper graph of reverse reachable set in graph G\u001B[39;00m\n\u001B[0;32m     12\u001B[0m k \u001B[38;5;241m=\u001B[39m max_k(budget, costs[i])\n\u001B[1;32m---> 13\u001B[0m RR \u001B[38;5;241m=\u001B[39m \u001B[43msampling\u001B[49m\u001B[43m(\u001B[49m\u001B[43mgraph\u001B[49m\u001B[38;5;241;43m=\u001B[39;49m\u001B[43mG\u001B[49m\u001B[43m,\u001B[49m\u001B[43m \u001B[49m\u001B[43mC\u001B[49m\u001B[38;5;241;43m=\u001B[39;49m\u001B[43mworker_ids\u001B[49m\u001B[43m,\u001B[49m\u001B[43m \u001B[49m\u001B[43mk\u001B[49m\u001B[38;5;241;43m=\u001B[39;49m\u001B[43mk\u001B[49m\u001B[43m,\u001B[49m\u001B[43m \u001B[49m\u001B[43mdelta\u001B[49m\u001B[38;5;241;43m=\u001B[39;49m\u001B[38;5;241;43m1\u001B[39;49m\u001B[38;5;241;43m/\u001B[39;49m\u001B[43mmath\u001B[49m\u001B[38;5;241;43m.\u001B[39;49m\u001B[43mpow\u001B[49m\u001B[43m(\u001B[49m\u001B[43mn\u001B[49m\u001B[43m,\u001B[49m\u001B[38;5;241;43m2\u001B[39;49m\u001B[43m)\u001B[49m\u001B[43m,\u001B[49m\u001B[43m \u001B[49m\u001B[43mepsilon\u001B[49m\u001B[38;5;241;43m=\u001B[39;49m\u001B[38;5;241;43m0.001\u001B[39;49m\u001B[43m,\u001B[49m\u001B[43m \u001B[49m\u001B[43mvalues\u001B[49m\u001B[38;5;241;43m=\u001B[39;49m\u001B[43mvalues\u001B[49m\u001B[43m[\u001B[49m\u001B[43mi\u001B[49m\u001B[43m]\u001B[49m\u001B[43m,\u001B[49m\u001B[43m \u001B[49m\u001B[43mmethod\u001B[49m\u001B[38;5;241;43m=\u001B[39;49m\u001B[43m \u001B[49m\u001B[38;5;124;43m'\u001B[39;49m\u001B[38;5;124;43msq\u001B[39;49m\u001B[38;5;124;43m'\u001B[39;49m\u001B[43m)\u001B[49m\n\u001B[0;32m     14\u001B[0m pbar\u001B[38;5;241m.\u001B[39mset_postfix({\u001B[38;5;124m'\u001B[39m\u001B[38;5;124mtask\u001B[39m\u001B[38;5;124m'\u001B[39m: i,\u001B[38;5;124m'\u001B[39m\u001B[38;5;124mtime used\u001B[39m\u001B[38;5;124m'\u001B[39m:time\u001B[38;5;241m.\u001B[39mtime()\u001B[38;5;241m-\u001B[39mstart,\u001B[38;5;124m'\u001B[39m\u001B[38;5;124mRR size\u001B[39m\u001B[38;5;124m'\u001B[39m:\u001B[38;5;28mlen\u001B[39m(RR)})\n\u001B[0;32m     16\u001B[0m \u001B[38;5;66;03m#initialize tasks\u001B[39;00m\n",
      "File \u001B[1;32mC:\\projects\\pythonprojects\\CCTA\\graph\\QIM.py:83\u001B[0m, in \u001B[0;36msampling\u001B[1;34m(graph, C, k, delta, epsilon, values, method)\u001B[0m\n\u001B[0;32m     77\u001B[0m \u001B[38;5;66;03m# processes = create_process(graph, values, R_1, R_2, count, theta - count, 8)\u001B[39;00m\n\u001B[0;32m     78\u001B[0m \u001B[38;5;66;03m# for p in processes:\u001B[39;00m\n\u001B[0;32m     79\u001B[0m \u001B[38;5;66;03m#     print(p.pid)\u001B[39;00m\n\u001B[0;32m     80\u001B[0m \u001B[38;5;66;03m# for p in processes:\u001B[39;00m\n\u001B[0;32m     81\u001B[0m \u001B[38;5;66;03m#     p.join()\u001B[39;00m\n\u001B[0;32m     82\u001B[0m \u001B[38;5;28;01mwhile\u001B[39;00m count \u001B[38;5;241m<\u001B[39m theta:\n\u001B[1;32m---> 83\u001B[0m     v1, v2 \u001B[38;5;241m=\u001B[39m \u001B[43mrandom\u001B[49m\u001B[38;5;241;43m.\u001B[39;49m\u001B[43mchoices\u001B[49m\u001B[43m(\u001B[49m\u001B[43mnodes\u001B[49m\u001B[43m,\u001B[49m\u001B[43m \u001B[49m\u001B[43mweights\u001B[49m\u001B[38;5;241;43m=\u001B[39;49m\u001B[43mvalues\u001B[49m\u001B[43m,\u001B[49m\u001B[43m \u001B[49m\u001B[43mk\u001B[49m\u001B[38;5;241;43m=\u001B[39;49m\u001B[38;5;241;43m2\u001B[39;49m\u001B[43m)\u001B[49m\n\u001B[0;32m     84\u001B[0m     generate_rr(graph, v1, R_1, index\u001B[38;5;241m=\u001B[39mcount)\n\u001B[0;32m     85\u001B[0m     generate_rr(graph, v2, R_2, index\u001B[38;5;241m=\u001B[39mcount)\n",
      "File \u001B[1;32mC:\\environment\\conda\\envs\\CCTA\\lib\\random.py:488\u001B[0m, in \u001B[0;36mRandom.choices\u001B[1;34m(self, population, weights, cum_weights, k)\u001B[0m\n\u001B[0;32m    486\u001B[0m     \u001B[38;5;28;01mreturn\u001B[39;00m [population[floor(random() \u001B[38;5;241m*\u001B[39m n)] \u001B[38;5;28;01mfor\u001B[39;00m i \u001B[38;5;129;01min\u001B[39;00m _repeat(\u001B[38;5;28;01mNone\u001B[39;00m, k)]\n\u001B[0;32m    487\u001B[0m \u001B[38;5;28;01mtry\u001B[39;00m:\n\u001B[1;32m--> 488\u001B[0m     cum_weights \u001B[38;5;241m=\u001B[39m \u001B[38;5;28mlist\u001B[39m(_accumulate(weights))\n\u001B[0;32m    489\u001B[0m \u001B[38;5;28;01mexcept\u001B[39;00m \u001B[38;5;167;01mTypeError\u001B[39;00m:\n\u001B[0;32m    490\u001B[0m     \u001B[38;5;28;01mif\u001B[39;00m \u001B[38;5;129;01mnot\u001B[39;00m \u001B[38;5;28misinstance\u001B[39m(weights, \u001B[38;5;28mint\u001B[39m):\n",
      "\u001B[1;31mKeyboardInterrupt\u001B[0m: "
     ]
    }
   ],
   "source": [
    "from ccta.Task import Task\n",
    "from tqdm import tqdm\n",
    "\n",
    "tasks = []\n",
    "graph_ids = random.sample(range(100),m)\n",
    "with tqdm(total = m * 100, desc='generate tasks', leave=True, ncols=100, unit='B', unit_scale=True) as pbar:\n",
    "    for i in range(m):\n",
    "        start = time.time()\n",
    "        G = read_graph_from_csv(graph_file,graph_ids[i])\n",
    "        budget = budgets[i]\n",
    "        # generate hyper graph of reverse reachable set in graph G\n",
    "        k = max_k(budget, costs[i])\n",
    "        RR = sampling(graph=G, C=worker_ids, k=k, delta=1/math.pow(n,2), epsilon=0.001, values=values[i], method= 'sq')\n",
    "        pbar.set_postfix({'task': i,'time used':time.time()-start,'RR size':len(RR)})\n",
    "    \n",
    "        #initialize tasks\n",
    "        tasks.append(Task(idx=i, budget=budget, R=RR, Q=Q[i]))\n",
    "        tasks[i].initialize(costs[i])\n",
    "        tasks[i].set_graph(G, values[i])\n",
    "        pbar.update(100)"
   ],
   "metadata": {
    "collapsed": false,
    "ExecuteTime": {
     "end_time": "2024-01-23T13:07:21.900709700Z",
     "start_time": "2024-01-23T13:06:45.377515700Z"
    }
   },
   "id": "69807a6570b5fb1f",
   "execution_count": 7
  },
  {
   "cell_type": "markdown",
   "source": [
    "set preference of workers"
   ],
   "metadata": {
    "collapsed": false
   },
   "id": "5306f8962a005b63"
  },
  {
   "cell_type": "code",
   "outputs": [],
   "source": [
    "for worker in workers:\n",
    "    value_dict = {}\n",
    "    for t in tasks:\n",
    "        value_dict[t] = random.random()\n",
    "    worker.set_preference(value_dict)"
   ],
   "metadata": {
    "collapsed": false,
    "ExecuteTime": {
     "start_time": "2024-01-23T13:07:21.899709900Z"
    }
   },
   "id": "f93b389c3e87b375",
   "execution_count": null
  },
  {
   "cell_type": "markdown",
   "source": [
    "DA | choice function : max cover | approximation ratio : 4/(1-r)"
   ],
   "metadata": {
    "collapsed": false
   },
   "id": "5bdeba9eaf913ef8"
  },
  {
   "cell_type": "code",
   "outputs": [],
   "source": [
    "from stableMatching.Algo import generalized_da\n",
    "\n",
    "for worker in workers:\n",
    "    worker.refresh()\n",
    "for task in tasks:\n",
    "    task.refresh()\n",
    "    task.set_choice_max_cover()\n",
    "generalized_da(tasks,workers)\n",
    "estimate(tasks,workers)"
   ],
   "metadata": {
    "collapsed": false,
    "ExecuteTime": {
     "start_time": "2024-01-23T13:07:21.900709700Z"
    }
   },
   "id": "6c5860a4dece8355",
   "execution_count": null
  },
  {
   "cell_type": "markdown",
   "source": [
    "DA | choice function : online sub modular maximization | approximation ratio : 2/(1-r)^2 + 2/(1-r)"
   ],
   "metadata": {
    "collapsed": false
   },
   "id": "1b8937b2a1423b1d"
  },
  {
   "cell_type": "code",
   "outputs": [],
   "source": [
    "from stableMatching.Algo import generalized_da\n",
    "\n",
    "for worker in workers:\n",
    "    worker.refresh()\n",
    "for task in tasks:\n",
    "    task.refresh()\n",
    "    task.set_choice_budget()\n",
    "generalized_da(tasks,workers)\n",
    "estimate(tasks, workers)"
   ],
   "metadata": {
    "collapsed": false,
    "ExecuteTime": {
     "end_time": "2024-01-23T13:07:21.902711600Z",
     "start_time": "2024-01-23T13:07:21.901710100Z"
    }
   },
   "id": "54e0ebe3ce93337e",
   "execution_count": null
  },
  {
   "cell_type": "markdown",
   "source": [
    "DA | choice function : matroid method | approximation ratio : 2 + 2(1+ln|D|)/(1-r)"
   ],
   "metadata": {
    "collapsed": false
   },
   "id": "2e99c7813b475a6d"
  },
  {
   "cell_type": "code",
   "outputs": [],
   "source": [
    "from stableMatching.Algo import generalized_da\n",
    "\n",
    "for worker in workers:\n",
    "    worker.refresh()\n",
    "for task in tasks:\n",
    "    task.refresh()\n",
    "    task.set_choice_matroid(avg_budget)\n",
    "generalized_da(tasks,workers)\n",
    "estimate(tasks,workers)"
   ],
   "metadata": {
    "collapsed": false,
    "ExecuteTime": {
     "start_time": "2024-01-23T13:07:21.902711600Z"
    }
   },
   "id": "23418e9d42598ba",
   "execution_count": null
  },
  {
   "cell_type": "code",
   "outputs": [],
   "source": [
    "with tqdm(total = m * 100, desc='generate new RR', leave=True, ncols=100, unit='B', unit_scale=True) as pbar:\n",
    "    for i in range(m):\n",
    "        start = time.time()\n",
    "        # generate hyper graph of reverse reachable set in graph G\n",
    "        k = max_k(tasks[i].budget, costs[i])\n",
    "        RR = sampling(graph=tasks[i].G, C=worker_ids, k=k, delta=1/n, epsilon=0.1, values=values[i], method= 'normal')\n",
    "        tasks[i].R = RR\n",
    "        pbar.set_postfix({'task': i,'time used':time.time()-start,'len RR':len(RR)})\n",
    "        pbar.update(100)"
   ],
   "metadata": {
    "collapsed": false,
    "ExecuteTime": {
     "start_time": "2024-01-23T13:07:21.903711500Z"
    }
   },
   "id": "e5f010dff0423d6d",
   "execution_count": null
  },
  {
   "cell_type": "code",
   "outputs": [],
   "source": [
    "from stableMatching.Algo import heuristic\n",
    "\n",
    "for worker in workers:\n",
    "    worker.refresh()\n",
    "for task in tasks:\n",
    "    task.refresh()\n",
    "heuristic(tasks,workers,3)\n",
    "estimate(tasks,workers)"
   ],
   "metadata": {
    "collapsed": false,
    "ExecuteTime": {
     "end_time": "2024-01-23T13:07:21.907219800Z",
     "start_time": "2024-01-23T13:07:21.904711600Z"
    }
   },
   "id": "607cd0276b910720",
   "execution_count": null
  }
 ],
 "metadata": {
  "kernelspec": {
   "display_name": "Python 3",
   "language": "python",
   "name": "python3"
  },
  "language_info": {
   "codemirror_mode": {
    "name": "ipython",
    "version": 2
   },
   "file_extension": ".py",
   "mimetype": "text/x-python",
   "name": "python",
   "nbconvert_exporter": "python",
   "pygments_lexer": "ipython2",
   "version": "2.7.6"
  }
 },
 "nbformat": 4,
 "nbformat_minor": 5
}
