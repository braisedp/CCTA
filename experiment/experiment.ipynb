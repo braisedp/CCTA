{
 "cells": [
  {
   "cell_type": "code",
   "execution_count": 1,
   "id": "initial_id",
   "metadata": {
    "collapsed": true,
    "ExecuteTime": {
     "end_time": "2024-01-20T06:10:59.668384500Z",
     "start_time": "2024-01-20T06:10:59.287768100Z"
    }
   },
   "outputs": [],
   "source": [
    "import random\n",
    "import time\n",
    "from graph.graph import read_graph_from_csv"
   ]
  },
  {
   "cell_type": "code",
   "outputs": [],
   "source": [
    "from stable_matching.TaskWorker import outward_satisfactory,overall_satisfactory,gamma_workers,individual_rationality_tasks\n",
    "def estimate(tasks, workers):\n",
    "    result_dict = {'outward_satisfactory': outward_satisfactory(tasks, workers),\n",
    "                   # 'overall_satisfactory': overall_satisfactory(tasks,workers),\n",
    "                   'individual_rationality': individual_rationality_tasks(tasks)}\n",
    "    Sum = 0\n",
    "    Max = 0\n",
    "    Min = 1000\n",
    "    for t_ in tasks:\n",
    "        q = t_.Q * gamma_workers(t_.R, t_.students()) / len(t_.R) / t_.budget \n",
    "        Sum += q\n",
    "        if q> Max:\n",
    "            Max = q\n",
    "        if q< Min:\n",
    "            Min = q\n",
    "    result_dict['average_density'] = Sum/len(tasks)\n",
    "    result_dict['maximum_density'] = Max\n",
    "    result_dict['minimum_density'] = Min\n",
    "    return result_dict"
   ],
   "metadata": {
    "collapsed": false,
    "ExecuteTime": {
     "end_time": "2024-01-20T06:10:59.683384600Z",
     "start_time": "2024-01-20T06:10:59.671388700Z"
    }
   },
   "id": "940949871e8ce1a9",
   "execution_count": 2
  },
  {
   "cell_type": "code",
   "outputs": [],
   "source": [
    "graph_file = '../graphs/dash/dash.csv'"
   ],
   "metadata": {
    "collapsed": false,
    "ExecuteTime": {
     "end_time": "2024-01-20T06:10:59.701384100Z",
     "start_time": "2024-01-20T06:10:59.685384300Z"
    }
   },
   "id": "2ed0da0f38d57e63",
   "execution_count": 3
  },
  {
   "cell_type": "code",
   "outputs": [],
   "source": [
    "m = 10 # number of tasks\n",
    "n = 100 # number of candidate workers"
   ],
   "metadata": {
    "collapsed": false,
    "ExecuteTime": {
     "end_time": "2024-01-20T06:10:59.716384Z",
     "start_time": "2024-01-20T06:10:59.701384100Z"
    }
   },
   "id": "b7618e7c6ee37663",
   "execution_count": 4
  },
  {
   "cell_type": "markdown",
   "source": [
    "initialize workers by their ids"
   ],
   "metadata": {
    "collapsed": false
   },
   "id": "20676102a26d9aad"
  },
  {
   "cell_type": "code",
   "outputs": [],
   "source": [
    "from stable_matching.TaskWorker import Worker\n",
    "\n",
    "g = read_graph_from_csv(graph_file,0)\n",
    "workers = []\n",
    "worker_ids = random.sample(list(g.nodes.keys()),n)\n",
    "for i in range(n):\n",
    "    workers.append(Worker(idx = worker_ids[i]))\n",
    "del g"
   ],
   "metadata": {
    "collapsed": false,
    "ExecuteTime": {
     "end_time": "2024-01-20T06:11:01.270863Z",
     "start_time": "2024-01-20T06:10:59.717383900Z"
    }
   },
   "id": "efd10873db00b32f",
   "execution_count": 5
  },
  {
   "cell_type": "markdown",
   "source": [
    "initialize tasks : (ids, budget, reverse reachable set, Q)"
   ],
   "metadata": {
    "collapsed": false
   },
   "id": "e32982c105cabea8"
  },
  {
   "cell_type": "code",
   "outputs": [
    {
     "name": "stdout",
     "output_type": "stream",
     "text": [
      "budget:3\n",
      "k:3\n",
      "i_max:36\n",
      "time to generate RR:2.0834457874298096\n",
      "budget:10\n",
      "k:12\n",
      "i_max:35\n",
      "time to generate RR:1.590407133102417\n",
      "budget:11\n",
      "k:13\n",
      "i_max:34\n",
      "time to generate RR:1.6999993324279785\n",
      "budget:14\n",
      "k:16\n",
      "i_max:34\n",
      "time to generate RR:0.8882865905761719\n",
      "budget:7\n",
      "k:8\n",
      "i_max:35\n",
      "time to generate RR:1.4123830795288086\n",
      "budget:16\n",
      "k:18\n",
      "i_max:34\n",
      "time to generate RR:0.9553320407867432\n",
      "budget:7\n",
      "k:8\n",
      "i_max:35\n",
      "time to generate RR:2.856632947921753\n",
      "budget:4\n",
      "k:4\n",
      "i_max:36\n",
      "time to generate RR:2.4106717109680176\n",
      "budget:22\n",
      "k:25\n",
      "i_max:34\n",
      "time to generate RR:0.5468084812164307\n",
      "budget:6\n",
      "k:7\n",
      "i_max:35\n",
      "time to generate RR:1.357759714126587\n"
     ]
    }
   ],
   "source": [
    "from graph.QIM import sampling\n",
    "from utils.funcs import max_k\n",
    "from stable_matching.TaskWorker import Task\n",
    "import scipy.stats as stats\n",
    "\n",
    "mu = 1.0\n",
    "sigma = 0.1\n",
    "\n",
    "tasks = []\n",
    "graph_ids = random.sample(range(100),m)\n",
    "\n",
    "# allocate budget to every task, sum of all budget is total_budget\n",
    "avg_budget  = 10\n",
    "total_budget = avg_budget * m\n",
    "points = [0]+sorted(random.sample(range(1,total_budget),m-1))+[total_budget]\n",
    "budgets = [points[i+1]-points[i] for i in range(len(points)-1)]\n",
    "\n",
    "for i in range(m):\n",
    "    G = read_graph_from_csv(graph_file,graph_ids[i])\n",
    "    \n",
    "    # generate cost of all candidate worker, task cost is generate from a trunc gaussian distribution mu = 1.0, sigma = 0.1, lb = 0.5, ub = 1.5\n",
    "    X = stats.truncnorm((0.5-mu)/sigma, (1.5-mu)/sigma, loc= mu, scale= sigma).rvs(n)\n",
    "    costs = {}\n",
    "    for j in range(n):\n",
    "        costs[workers[j]] = X[j]\n",
    "        \n",
    "    # values of all workers\n",
    "    values = {}\n",
    "    Q  = 0.0\n",
    "    for v in G.nodes:\n",
    "        values[v] = random.uniform(0.0, 1.0)\n",
    "        Q += values[v]\n",
    "        \n",
    "    budget = budgets[i]\n",
    "    print('budget:{}'.format(budget))\n",
    "    start = time.time()\n",
    "    # generate hyper graph of reverse reachable set in graph G\n",
    "    k = max_k(budget, costs)\n",
    "    print('k:{}'.format(k))\n",
    "    RR = sampling(graph=G, C=worker_ids, k=k, delta=1/n, epsilon=0.01, values=values)\n",
    "    print('time to generate RR:{}'.format(time.time()-start))\n",
    "    \n",
    "    #initialize tasks\n",
    "    tasks.append(Task(idx=i, budget=budget, R=RR, Q=Q))\n",
    "    tasks[i].initialize(costs)"
   ],
   "metadata": {
    "collapsed": false,
    "ExecuteTime": {
     "end_time": "2024-01-20T06:11:32.704618400Z",
     "start_time": "2024-01-20T06:11:01.270863Z"
    }
   },
   "id": "69807a6570b5fb1f",
   "execution_count": 6
  },
  {
   "cell_type": "code",
   "outputs": [],
   "source": [
    "for worker in workers:\n",
    "    value_dict = {}\n",
    "    for t in tasks:\n",
    "        value_dict[t] = random.random()\n",
    "    worker.set_preference(value_dict)"
   ],
   "metadata": {
    "collapsed": false,
    "ExecuteTime": {
     "end_time": "2024-01-20T06:11:32.720658900Z",
     "start_time": "2024-01-20T06:11:32.706618500Z"
    }
   },
   "id": "f93b389c3e87b375",
   "execution_count": 7
  },
  {
   "cell_type": "code",
   "outputs": [],
   "source": [
    "from stable_matching.stableMatching import generalized_da\n",
    "for worker in workers:\n",
    "    worker.refresh()\n",
    "for task in tasks:\n",
    "    task.refresh()\n",
    "    task.set_choice_budget()\n",
    "generalized_da(tasks,workers)"
   ],
   "metadata": {
    "collapsed": false,
    "ExecuteTime": {
     "end_time": "2024-01-20T07:27:02.063210300Z",
     "start_time": "2024-01-20T07:27:02.056207500Z"
    }
   },
   "id": "ce9ffdc753e46007",
   "execution_count": 20
  },
  {
   "cell_type": "code",
   "outputs": [
    {
     "data": {
      "text/plain": "{'outward_satisfactory': 0.9795918367346939,\n 'individual_rationality': [[3, 2.9718015257772255],\n  [10, 9.994128139015812],\n  [11, 10.847116544265768],\n  [14, 12.927014162584289],\n  [7, 6.84391689927044],\n  [16, 15.354596589409484],\n  [7, 6.211169100913683],\n  [4, 3.2224570498522076],\n  [22, 21.90560819594582],\n  [6, 5.7591655267193484]],\n 'average_density': 1.3769793216641504,\n 'maximum_density': 2.610171302597001,\n 'minimum_density': 0.6152048564323909}"
     },
     "execution_count": 21,
     "metadata": {},
     "output_type": "execute_result"
    }
   ],
   "source": [
    "estimate(tasks, workers)"
   ],
   "metadata": {
    "collapsed": false,
    "ExecuteTime": {
     "end_time": "2024-01-20T07:27:03.125854600Z",
     "start_time": "2024-01-20T07:27:03.104840600Z"
    }
   },
   "id": "54e0ebe3ce93337e",
   "execution_count": 21
  },
  {
   "cell_type": "code",
   "outputs": [],
   "source": [
    "from stable_matching.stableMatching import generalized_da\n",
    "for worker in workers:\n",
    "    worker.refresh()\n",
    "for task in tasks:\n",
    "    task.refresh()\n",
    "    task.set_choice_max_cover()\n",
    "generalized_da(tasks,workers)"
   ],
   "metadata": {
    "collapsed": false,
    "ExecuteTime": {
     "end_time": "2024-01-20T06:12:54.607231500Z",
     "start_time": "2024-01-20T06:12:54.574233Z"
    }
   },
   "id": "5d6416741fcb0b7d",
   "execution_count": 15
  },
  {
   "cell_type": "code",
   "outputs": [
    {
     "data": {
      "text/plain": "{'outward_satisfactory': 0.7,\n 'individual_rationality': [[3, 0.8092816258322615],\n  [10, 1.0549531202681048],\n  [11, 0.7674477687465863],\n  [14, 0.8644039330299084],\n  [7, 0.7597340029346388],\n  [16, 0.7746205534288589],\n  [7, 0.9335383536255147],\n  [4, 0.8905699832942072],\n  [22, 0.9781958938013107],\n  [6, 0.9725541151799945]],\n 'average_density': 0.8149436898230892,\n 'maximum_density': 2.721242421856448,\n 'minimum_density': 0.2590336237610067}"
     },
     "execution_count": 16,
     "metadata": {},
     "output_type": "execute_result"
    }
   ],
   "source": [
    "estimate(tasks,workers)"
   ],
   "metadata": {
    "collapsed": false,
    "ExecuteTime": {
     "end_time": "2024-01-20T06:12:55.898176Z",
     "start_time": "2024-01-20T06:12:55.888177Z"
    }
   },
   "id": "50e3e0a145ad2298",
   "execution_count": 16
  },
  {
   "cell_type": "code",
   "outputs": [
    {
     "data": {
      "text/plain": "{'outward_satisfactory': -0.18421052631578938,\n 'individual_rationality': [[3, 0.930991066746693],\n  [10, 4.819081824086796],\n  [11, 4.620820181152417],\n  [14, 4.899225645082625],\n  [7, 2.778741421409652],\n  [16, 4.615298206138719],\n  [7, 3.531452191633326],\n  [4, 1.9496563497753931],\n  [22, 5.0913981820862055],\n  [6, 2.7192511436413294]],\n 'average_density': 1.3114202781124262,\n 'maximum_density': 2.5771902540827107,\n 'minimum_density': 0.77710087128302}"
     },
     "execution_count": 19,
     "metadata": {},
     "output_type": "execute_result"
    }
   ],
   "source": [
    "from stable_matching.stableMatching import generalized_da\n",
    "for worker in workers:\n",
    "    worker.refresh()\n",
    "for task in tasks:\n",
    "    task.refresh()\n",
    "    task.set_choice_matroid(4)\n",
    "generalized_da(tasks,workers)\n",
    "estimate(tasks,workers)"
   ],
   "metadata": {
    "collapsed": false,
    "ExecuteTime": {
     "end_time": "2024-01-20T06:13:15.306578Z",
     "start_time": "2024-01-20T06:13:15.268578500Z"
    }
   },
   "id": "23418e9d42598ba",
   "execution_count": 19
  },
  {
   "cell_type": "code",
   "outputs": [
    {
     "ename": "ValueError",
     "evalue": "list.remove(x): x not in list",
     "output_type": "error",
     "traceback": [
      "\u001B[1;31m---------------------------------------------------------------------------\u001B[0m",
      "\u001B[1;31mValueError\u001B[0m                                Traceback (most recent call last)",
      "Cell \u001B[1;32mIn[22], line 6\u001B[0m\n\u001B[0;32m      4\u001B[0m \u001B[38;5;28;01mfor\u001B[39;00m task \u001B[38;5;129;01min\u001B[39;00m tasks:\n\u001B[0;32m      5\u001B[0m     task\u001B[38;5;241m.\u001B[39mrefresh()\n\u001B[1;32m----> 6\u001B[0m \u001B[43mheuristic\u001B[49m\u001B[43m(\u001B[49m\u001B[43mtasks\u001B[49m\u001B[43m,\u001B[49m\u001B[43mworkers\u001B[49m\u001B[43m,\u001B[49m\u001B[38;5;241;43m100\u001B[39;49m\u001B[43m)\u001B[49m\n\u001B[0;32m      7\u001B[0m estimate(tasks,workers)\n",
      "File \u001B[1;32mC:\\projects\\pythonprojects\\CCTA\\stable_matching\\stableMatching.py:80\u001B[0m, in \u001B[0;36mheuristic\u001B[1;34m(schools, students, k)\u001B[0m\n\u001B[0;32m     78\u001B[0m     \u001B[38;5;28;01mif\u001B[39;00m school \u001B[38;5;129;01min\u001B[39;00m student\u001B[38;5;241m.\u001B[39mpreference_list() \u001B[38;5;129;01mand\u001B[39;00m student\u001B[38;5;241m.\u001B[39mprefer(school):\n\u001B[0;32m     79\u001B[0m         l\u001B[38;5;241m.\u001B[39mappend(student)\n\u001B[1;32m---> 80\u001B[0m \u001B[43mschool\u001B[49m\u001B[38;5;241;43m.\u001B[39;49m\u001B[43mselect\u001B[49m\u001B[43m(\u001B[49m\u001B[43ml\u001B[49m\u001B[43m)\u001B[49m\n",
      "File \u001B[1;32mC:\\projects\\pythonprojects\\CCTA\\stable_matching\\TaskWorker.py:332\u001B[0m, in \u001B[0;36mTask.select\u001B[1;34m(self, workers)\u001B[0m\n\u001B[0;32m    329\u001B[0m     \u001B[38;5;66;03m# print('dispose:{}'.format(w.id))\u001B[39;00m\n\u001B[0;32m    330\u001B[0m \u001B[38;5;28;01mfor\u001B[39;00m w \u001B[38;5;129;01min\u001B[39;00m S:\n\u001B[0;32m    331\u001B[0m     \u001B[38;5;66;03m# print('select:{}'.format(w.id))\u001B[39;00m\n\u001B[1;32m--> 332\u001B[0m     \u001B[43mw\u001B[49m\u001B[38;5;241;43m.\u001B[39;49m\u001B[43mselected_by\u001B[49m\u001B[43m(\u001B[49m\u001B[38;5;28;43mself\u001B[39;49m\u001B[43m)\u001B[49m\n",
      "File \u001B[1;32mC:\\projects\\pythonprojects\\CCTA\\stable_matching\\TaskWorker.py:405\u001B[0m, in \u001B[0;36mWorker.selected_by\u001B[1;34m(self, task)\u001B[0m\n\u001B[0;32m    402\u001B[0m \u001B[38;5;28;01mdef\u001B[39;00m \u001B[38;5;21mselected_by\u001B[39m(\u001B[38;5;28mself\u001B[39m, task):\n\u001B[0;32m    403\u001B[0m     \u001B[38;5;28;01mif\u001B[39;00m \u001B[38;5;28mself\u001B[39m\u001B[38;5;241m.\u001B[39mtask \u001B[38;5;129;01mis\u001B[39;00m \u001B[38;5;129;01mnot\u001B[39;00m \u001B[38;5;28;01mNone\u001B[39;00m:\n\u001B[0;32m    404\u001B[0m         \u001B[38;5;66;03m# print('----remove from task:{}'.format(self.task.id))\u001B[39;00m\n\u001B[1;32m--> 405\u001B[0m         \u001B[38;5;28;43mself\u001B[39;49m\u001B[38;5;241;43m.\u001B[39;49m\u001B[43mtask\u001B[49m\u001B[38;5;241;43m.\u001B[39;49m\u001B[43mdispose\u001B[49m\u001B[43m(\u001B[49m\u001B[38;5;28;43mself\u001B[39;49m\u001B[43m)\u001B[49m\n\u001B[0;32m    406\u001B[0m     \u001B[38;5;28mself\u001B[39m\u001B[38;5;241m.\u001B[39mtask \u001B[38;5;241m=\u001B[39m task\n",
      "File \u001B[1;32mC:\\projects\\pythonprojects\\CCTA\\stable_matching\\TaskWorker.py:342\u001B[0m, in \u001B[0;36mTask.dispose\u001B[1;34m(self, worker)\u001B[0m\n\u001B[0;32m    341\u001B[0m \u001B[38;5;28;01mdef\u001B[39;00m \u001B[38;5;21mdispose\u001B[39m(\u001B[38;5;28mself\u001B[39m, worker):\n\u001B[1;32m--> 342\u001B[0m     \u001B[38;5;28;43mself\u001B[39;49m\u001B[38;5;241;43m.\u001B[39;49m\u001B[43mS\u001B[49m\u001B[38;5;241;43m.\u001B[39;49m\u001B[43mremove\u001B[49m\u001B[43m(\u001B[49m\u001B[43mworker\u001B[49m\u001B[43m)\u001B[49m\n",
      "\u001B[1;31mValueError\u001B[0m: list.remove(x): x not in list"
     ]
    }
   ],
   "source": [
    "from stable_matching.stableMatching import heuristic\n",
    "for worker in workers:\n",
    "    worker.refresh()\n",
    "for task in tasks:\n",
    "    task.refresh()\n",
    "heuristic(tasks,workers,100)\n",
    "estimate(tasks,workers)"
   ],
   "metadata": {
    "collapsed": false,
    "ExecuteTime": {
     "end_time": "2024-01-20T07:36:06.738333400Z",
     "start_time": "2024-01-20T07:36:06.368742Z"
    }
   },
   "id": "607cd0276b910720",
   "execution_count": 22
  }
 ],
 "metadata": {
  "kernelspec": {
   "display_name": "Python 3",
   "language": "python",
   "name": "python3"
  },
  "language_info": {
   "codemirror_mode": {
    "name": "ipython",
    "version": 2
   },
   "file_extension": ".py",
   "mimetype": "text/x-python",
   "name": "python",
   "nbconvert_exporter": "python",
   "pygments_lexer": "ipython2",
   "version": "2.7.6"
  }
 },
 "nbformat": 4,
 "nbformat_minor": 5
}
