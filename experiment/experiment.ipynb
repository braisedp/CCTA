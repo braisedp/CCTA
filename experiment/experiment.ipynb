{
 "cells": [
  {
   "cell_type": "code",
   "execution_count": 23,
   "id": "initial_id",
   "metadata": {
    "collapsed": true,
    "ExecuteTime": {
     "end_time": "2024-01-21T10:54:10.867614700Z",
     "start_time": "2024-01-21T10:54:10.834656100Z"
    }
   },
   "outputs": [],
   "source": [
    "import math\n",
    "import random\n",
    "import time\n",
    "from graph.graph import read_graph_from_csv"
   ]
  },
  {
   "cell_type": "code",
   "outputs": [],
   "source": [
    "from stable_matching.TaskWorker import outward_satisfactory,overall_satisfactory,gamma_workers,individual_rationality_tasks,waste_pairwise,calculate_influence_workers\n",
    "def estimate(Tasks, Workers, ise=False):\n",
    "    if ise:\n",
    "        for task_ in Tasks:\n",
    "            task_.estimate()\n",
    "    result_dict = {'fairness-pairwise': outward_satisfactory(Tasks, Workers, ise),\n",
    "                   # 'overall_satisfactory': overall_satisfactory(tasks,workers,ise),\n",
    "                   'individual_rationality': individual_rationality_tasks(Tasks),\n",
    "                   'waste-pairwise': waste_pairwise(Tasks, Workers)}\n",
    "    Sum = 0\n",
    "    Max = 0\n",
    "    Min = 1000\n",
    "    for t_ in Tasks:\n",
    "        if len(t_.students()) <=0:\n",
    "            break\n",
    "        q = calculate_influence_workers(t_.students(), t_.G, t_.values)\n",
    "        Sum += q\n",
    "        if q> Max:\n",
    "            Max = q\n",
    "        if q< Min:\n",
    "            Min = q\n",
    "    result_dict['average-density'] = Sum/len(Tasks)\n",
    "    result_dict['maximum-density'] = Max\n",
    "    result_dict['minimum-density'] = Min\n",
    "    return result_dict"
   ],
   "metadata": {
    "collapsed": false,
    "ExecuteTime": {
     "end_time": "2024-01-21T10:54:10.913464200Z",
     "start_time": "2024-01-21T10:54:10.842629400Z"
    }
   },
   "id": "940949871e8ce1a9",
   "execution_count": 24
  },
  {
   "cell_type": "code",
   "outputs": [],
   "source": [
    "graph_file = '../graphs/dash/dash.csv'"
   ],
   "metadata": {
    "collapsed": false,
    "ExecuteTime": {
     "end_time": "2024-01-21T10:54:10.914460800Z",
     "start_time": "2024-01-21T10:54:10.856582900Z"
    }
   },
   "id": "2ed0da0f38d57e63",
   "execution_count": 25
  },
  {
   "cell_type": "code",
   "outputs": [],
   "source": [
    "m = 20 # number of tasks\n",
    "n = 100 # number of candidate workers"
   ],
   "metadata": {
    "collapsed": false,
    "ExecuteTime": {
     "end_time": "2024-01-21T10:54:10.914460800Z",
     "start_time": "2024-01-21T10:54:10.870605400Z"
    }
   },
   "id": "b7618e7c6ee37663",
   "execution_count": 26
  },
  {
   "cell_type": "markdown",
   "source": [
    "initialize workers by their ids"
   ],
   "metadata": {
    "collapsed": false
   },
   "id": "20676102a26d9aad"
  },
  {
   "cell_type": "code",
   "outputs": [],
   "source": [
    "from stable_matching.TaskWorker import Worker\n",
    "\n",
    "g = read_graph_from_csv(graph_file,0)\n",
    "workers = []\n",
    "worker_ids = random.sample(list(g.nodes.keys()),n)\n",
    "for i in range(n):\n",
    "    workers.append(Worker(idx = worker_ids[i]))\n",
    "del g"
   ],
   "metadata": {
    "collapsed": false,
    "ExecuteTime": {
     "end_time": "2024-01-21T10:54:12.707299600Z",
     "start_time": "2024-01-21T10:54:10.887548700Z"
    }
   },
   "id": "efd10873db00b32f",
   "execution_count": 27
  },
  {
   "cell_type": "markdown",
   "source": [
    "initialize tasks : (ids, budget, reverse reachable set, Q)"
   ],
   "metadata": {
    "collapsed": false
   },
   "id": "e32982c105cabea8"
  },
  {
   "cell_type": "code",
   "outputs": [],
   "source": [
    "from graph.QIM import sampling\n",
    "from utils.funcs import max_k\n",
    "from stable_matching.TaskWorker import Task\n",
    "\n",
    "mu = 1.0\n",
    "sigma = 0.1\n",
    "\n",
    "# allocate budget to every task, sum of all budget is total_budget\n",
    "avg_budget  = 10\n",
    "max_variance = math.ceil(avg_budget/2)\n",
    "\n",
    "budgets = [random.randint(avg_budget-max_variance,avg_budget+max_variance) for _ in range(m)]\n",
    "costs = {}\n",
    "values ={}\n",
    "Q = [0] * m\n",
    "g = read_graph_from_csv(graph_file,0)\n",
    "for i in range(m):\n",
    "    # generate cost of all candidate worker, task cost is generate from a trunc gaussian distribution mu = 1.0, sigma = 0.1, lb = 0.5, ub = 1.5\n",
    "    X = [random.uniform(0.1,2.0) for _ in range(n)]\n",
    "    costs[i] = {}\n",
    "    for j in range(n):\n",
    "        costs[i][workers[j]] = X[j]\n",
    "        \n",
    "    # values of all workers\n",
    "    values[i] = {}\n",
    "    \n",
    "    for v in g.nodes:\n",
    "        values[i][v] = random.uniform(0.0, 1.0)\n",
    "        Q[i] += values[i][v]\n",
    "        "
   ],
   "metadata": {
    "collapsed": false,
    "ExecuteTime": {
     "end_time": "2024-01-21T10:54:14.534936200Z",
     "start_time": "2024-01-21T10:54:12.710289700Z"
    }
   },
   "id": "6d278371e33ea3f3",
   "execution_count": 28
  },
  {
   "cell_type": "code",
   "outputs": [
    {
     "name": "stderr",
     "output_type": "stream",
     "text": [
      "generate tasks: 100%|██████████████████| 2.00k/2.00k [00:57<00:00, 34.9B/s, task=19, time used=2.85]\n"
     ]
    }
   ],
   "source": [
    "from tqdm import tqdm\n",
    "tasks = []\n",
    "graph_ids = random.sample(range(100),m)\n",
    "with tqdm(total = m * 100, desc='generate tasks', leave=True, ncols=100, unit='B', unit_scale=True) as pbar:\n",
    "    for i in range(m):\n",
    "        start = time.time()\n",
    "        G = read_graph_from_csv(graph_file,graph_ids[i])\n",
    "        budget = budgets[i]\n",
    "        # generate hyper graph of reverse reachable set in graph G\n",
    "        k = max_k(budget, costs[i])\n",
    "        RR = sampling(graph=G, C=worker_ids, k=k, delta=1/n, epsilon=0.01, values=values[i], method= 'sq')\n",
    "        pbar.set_postfix({'task': i,'time used':time.time()-start})\n",
    "    \n",
    "        #initialize tasks\n",
    "        tasks.append(Task(idx=i, budget=budget, R=RR, Q=Q[i]))\n",
    "        tasks[i].initialize(costs[i])\n",
    "        tasks[i].set_graph(G, values[i])\n",
    "        pbar.update(100)"
   ],
   "metadata": {
    "collapsed": false,
    "ExecuteTime": {
     "end_time": "2024-01-21T10:55:11.878745400Z",
     "start_time": "2024-01-21T10:54:14.534936200Z"
    }
   },
   "id": "69807a6570b5fb1f",
   "execution_count": 29
  },
  {
   "cell_type": "code",
   "outputs": [],
   "source": [
    "for worker in workers:\n",
    "    value_dict = {}\n",
    "    for t in tasks:\n",
    "        value_dict[t] = random.random()\n",
    "    worker.set_preference(value_dict)"
   ],
   "metadata": {
    "collapsed": false,
    "ExecuteTime": {
     "end_time": "2024-01-21T10:55:11.894691400Z",
     "start_time": "2024-01-21T10:55:11.874758400Z"
    }
   },
   "id": "f93b389c3e87b375",
   "execution_count": 30
  },
  {
   "cell_type": "code",
   "outputs": [
    {
     "data": {
      "text/plain": "{'fairness-pairwise': 0.7931034482758621,\n 'individual_rationality': [[13, 6.270249658006151],\n  [8, 1.6140006528385924],\n  [9, 1.1812098773638422],\n  [9, 4.505183829304954],\n  [8, 4.91835019958624],\n  [5, 4.115397608546226],\n  [9, 3.2783781080906365],\n  [5, 4.171247467749501],\n  [12, 4.404985583590672],\n  [7, 5.406867478630769],\n  [8, 1.447144873999007],\n  [12, 1.4788690786332936],\n  [12, 6.627908997093858],\n  [7, 1.7317306218758515],\n  [14, 3.120816876431525],\n  [7, 5.298986903988069],\n  [13, 4.119402289034852],\n  [7, 3.795329550475573],\n  [11, 4.565721126699054],\n  [8, 2.302578015967287]],\n 'waste-pairwise': 4.827586206896552,\n 'average-density': 8.000593834088182,\n 'maximum-density': 15.7572423752883,\n 'minimum-density': 3.5407480158995783}"
     },
     "execution_count": 36,
     "metadata": {},
     "output_type": "execute_result"
    }
   ],
   "source": [
    "from stable_matching.stableMatching import generalized_da\n",
    "for worker in workers:\n",
    "    worker.refresh()\n",
    "for task in tasks:\n",
    "    task.refresh()\n",
    "    task.set_choice_max_cover()\n",
    "generalized_da(tasks,workers)\n",
    "estimate(tasks,workers)"
   ],
   "metadata": {
    "collapsed": false,
    "ExecuteTime": {
     "end_time": "2024-01-21T10:59:51.150325600Z",
     "start_time": "2024-01-21T10:59:23.396988400Z"
    }
   },
   "id": "6c5860a4dece8355",
   "execution_count": 36
  },
  {
   "cell_type": "code",
   "outputs": [
    {
     "data": {
      "text/plain": "{'fairness-pairwise': 1.0,\n 'individual_rationality': [[13, 4.79461821634136],\n  [8, 2.7618975212799532],\n  [9, 6.54907476323231],\n  [9, 6.8092967056818505],\n  [8, 4.980108757694892],\n  [5, 0],\n  [9, 4.4154446706381005],\n  [5, 4.22348582684037],\n  [12, 3.9594209469632045],\n  [7, 6.214367370622063],\n  [8, 7.324920601799278],\n  [12, 4.984319001544175],\n  [12, 9.776597775069504],\n  [7, 5.061223823564083],\n  [14, 6.55098862514104],\n  [7, 6.388083656216217],\n  [13, 4.702760819412124],\n  [7, 5.08252543053965],\n  [11, 10.632717351485026],\n  [8, 3.230853527793523]],\n 'waste-pairwise': 0.0,\n 'average-density': 1.744383440375206,\n 'maximum-density': 16.593530633450467,\n 'minimum-density': 1.9914517648986247}"
     },
     "execution_count": 31,
     "metadata": {},
     "output_type": "execute_result"
    }
   ],
   "source": [
    "from stable_matching.stableMatching import generalized_da\n",
    "for worker in workers:\n",
    "    worker.refresh()\n",
    "for task in tasks:\n",
    "    task.refresh()\n",
    "    task.set_choice_budget()\n",
    "generalized_da(tasks,workers)\n",
    "estimate(tasks, workers)"
   ],
   "metadata": {
    "collapsed": false,
    "ExecuteTime": {
     "end_time": "2024-01-21T10:55:24.676707200Z",
     "start_time": "2024-01-21T10:55:17.588167800Z"
    }
   },
   "id": "54e0ebe3ce93337e",
   "execution_count": 31
  },
  {
   "cell_type": "code",
   "outputs": [],
   "source": [
    "from stable_matching.stableMatching import generalized_da\n",
    "for worker in workers:\n",
    "    worker.refresh()\n",
    "for task in tasks:\n",
    "    task.refresh()\n",
    "    task.set_choice_matroid(6)\n",
    "generalized_da(tasks,workers)\n",
    "estimate(tasks,workers)"
   ],
   "metadata": {
    "collapsed": false
   },
   "id": "23418e9d42598ba",
   "execution_count": null
  },
  {
   "cell_type": "code",
   "outputs": [],
   "source": [
    "from stable_matching.stableMatching import heuristic\n",
    "for worker in workers:\n",
    "    worker.refresh()\n",
    "for task in tasks:\n",
    "    task.refresh()\n",
    "heuristic(tasks,workers,100)"
   ],
   "metadata": {
    "collapsed": false
   },
   "id": "a784e7d5b45ac50",
   "execution_count": null
  },
  {
   "cell_type": "code",
   "execution_count": 35,
   "outputs": [
    {
     "data": {
      "text/plain": "True"
     },
     "execution_count": 35,
     "metadata": {},
     "output_type": "execute_result"
    }
   ],
   "source": [
    "flag = True\n",
    "for task in tasks:\n",
    "    for worker in task.students():\n",
    "        if worker.task != task:\n",
    "            flag = False\n",
    "flag"
   ],
   "metadata": {
    "collapsed": false,
    "ExecuteTime": {
     "end_time": "2024-01-21T10:57:31.879988900Z",
     "start_time": "2024-01-21T10:57:31.833327200Z"
    }
   },
   "id": "8a81fca59b04cedc"
  },
  {
   "cell_type": "code",
   "outputs": [
    {
     "data": {
      "text/plain": "{'fairness-pairwise': 1.0,\n 'individual_rationality': [[13, 4.79461821634136],\n  [8, 2.7618975212799532],\n  [9, 6.549074763232309],\n  [9, 6.80929670568185],\n  [8, 4.980108757694893],\n  [5, 0],\n  [9, 4.4154446706381005],\n  [5, 4.22348582684037],\n  [12, 3.9594209469632045],\n  [7, 6.214367370622064],\n  [8, 7.324920601799278],\n  [12, 4.984319001544175],\n  [12, 9.776597775069504],\n  [7, 5.061223823564083],\n  [14, 6.55098862514104],\n  [7, 6.388083656216218],\n  [13, 4.702760819412124],\n  [7, 5.08252543053965],\n  [11, 10.632717351485026],\n  [8, 3.230853527793523]],\n 'waste-pairwise': 0.0,\n 'average-density': 1.773869754407876,\n 'maximum-density': 16.999112968469426,\n 'minimum-density': 2.0429530447685558}"
     },
     "execution_count": 34,
     "metadata": {},
     "output_type": "execute_result"
    }
   ],
   "source": [
    "estimate(tasks,workers)"
   ],
   "metadata": {
    "collapsed": false,
    "ExecuteTime": {
     "end_time": "2024-01-21T10:55:51.912560100Z",
     "start_time": "2024-01-21T10:55:44.841586Z"
    }
   },
   "id": "607cd0276b910720",
   "execution_count": 34
  }
 ],
 "metadata": {
  "kernelspec": {
   "display_name": "Python 3",
   "language": "python",
   "name": "python3"
  },
  "language_info": {
   "codemirror_mode": {
    "name": "ipython",
    "version": 2
   },
   "file_extension": ".py",
   "mimetype": "text/x-python",
   "name": "python",
   "nbconvert_exporter": "python",
   "pygments_lexer": "ipython2",
   "version": "2.7.6"
  }
 },
 "nbformat": 4,
 "nbformat_minor": 5
}
