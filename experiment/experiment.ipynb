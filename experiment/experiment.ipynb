{
 "cells": [
  {
   "cell_type": "code",
   "execution_count": 12,
   "id": "initial_id",
   "metadata": {
    "collapsed": true,
    "ExecuteTime": {
     "end_time": "2024-01-19T05:09:17.954882100Z",
     "start_time": "2024-01-19T05:09:17.946881800Z"
    }
   },
   "outputs": [],
   "source": [
    "import math\n",
    "import random\n",
    "import time\n",
    "from graph.graph import read_graph_from_csv"
   ]
  },
  {
   "cell_type": "code",
   "outputs": [],
   "source": [
    "graph_file = '../graphs/dash/dash.csv'"
   ],
   "metadata": {
    "collapsed": false,
    "ExecuteTime": {
     "end_time": "2024-01-19T05:09:17.983985800Z",
     "start_time": "2024-01-19T05:09:17.957342500Z"
    }
   },
   "id": "2ed0da0f38d57e63",
   "execution_count": 13
  },
  {
   "cell_type": "code",
   "outputs": [],
   "source": [
    "m = 10 # number of tasks\n",
    "n = 100 # number of candidate workers"
   ],
   "metadata": {
    "collapsed": false,
    "ExecuteTime": {
     "end_time": "2024-01-19T05:09:17.983985800Z",
     "start_time": "2024-01-19T05:09:17.969849900Z"
    }
   },
   "id": "b7618e7c6ee37663",
   "execution_count": 14
  },
  {
   "cell_type": "markdown",
   "source": [
    "initialize workers by their ids"
   ],
   "metadata": {
    "collapsed": false
   },
   "id": "20676102a26d9aad"
  },
  {
   "cell_type": "code",
   "outputs": [],
   "source": [
    "from stable_matching.TaskWorker import Worker\n",
    "\n",
    "g = read_graph_from_csv(graph_file,0)\n",
    "workers = []\n",
    "worker_ids = random.sample(list(g.nodes.keys()),n)\n",
    "for i in range(n):\n",
    "    workers.append(Worker(idx = worker_ids[i]))\n",
    "del g"
   ],
   "metadata": {
    "collapsed": false,
    "ExecuteTime": {
     "end_time": "2024-01-19T05:09:19.613207600Z",
     "start_time": "2024-01-19T05:09:17.983985800Z"
    }
   },
   "id": "efd10873db00b32f",
   "execution_count": 15
  },
  {
   "cell_type": "markdown",
   "source": [
    "initialize tasks : (ids, budget, reverse reachable set, Q)"
   ],
   "metadata": {
    "collapsed": false
   },
   "id": "e32982c105cabea8"
  },
  {
   "cell_type": "code",
   "outputs": [
    {
     "name": "stdout",
     "output_type": "stream",
     "text": [
      "budget:11\n",
      "k:13\n",
      "i_max:34\n",
      "time to generate RR:1.106518030166626\n",
      "budget:14\n",
      "k:16\n",
      "i_max:34\n",
      "time to generate RR:1.049278736114502\n",
      "budget:2\n",
      "k:2\n",
      "i_max:37\n",
      "time to generate RR:4.038794994354248\n",
      "budget:20\n",
      "k:22\n",
      "i_max:34\n",
      "time to generate RR:0.7289378643035889\n",
      "budget:12\n",
      "k:14\n",
      "i_max:34\n",
      "time to generate RR:0.8976690769195557\n",
      "budget:6\n",
      "k:7\n",
      "i_max:35\n",
      "time to generate RR:1.4221882820129395\n",
      "budget:12\n",
      "k:14\n",
      "i_max:34\n",
      "time to generate RR:0.9048364162445068\n",
      "budget:10\n",
      "k:11\n",
      "i_max:35\n",
      "time to generate RR:0.8177247047424316\n",
      "budget:11\n",
      "k:12\n",
      "i_max:35\n",
      "time to generate RR:1.0120563507080078\n",
      "budget:2\n",
      "k:2\n",
      "i_max:37\n",
      "time to generate RR:8.01326870918274\n"
     ]
    }
   ],
   "source": [
    "from graph.QIM import sampling\n",
    "from utils.funcs import max_k\n",
    "from stable_matching.TaskWorker import Task\n",
    "import scipy.stats as stats\n",
    "\n",
    "mu = 1.0\n",
    "sigma = 0.1\n",
    "\n",
    "tasks = []\n",
    "graph_ids = random.sample(range(100),m)\n",
    "\n",
    "# allocate budget to every task, sum of all budget is total_budget\n",
    "avg_budget  = 10\n",
    "total_budget = avg_budget * m\n",
    "points = [0]+sorted(random.sample(range(1,total_budget),m-1))+[total_budget]\n",
    "budgets = [points[i+1]-points[i] for i in range(len(points)-1)]\n",
    "\n",
    "for i in range(m):\n",
    "    G = read_graph_from_csv(graph_file,graph_ids[i])\n",
    "    \n",
    "    # generate cost of all candidate worker, task cost is generate from a trunc gaussian distribution mu = 1.0, sigma = 0.1, lb = 0.5, ub = 1.5\n",
    "    X = stats.truncnorm((0.5-mu)/sigma, (1.5-mu)/sigma, loc= mu, scale= sigma).rvs(n)\n",
    "    costs = {}\n",
    "    for j in range(n):\n",
    "        costs[workers[j]] = X[j]\n",
    "        \n",
    "    # values of all workers\n",
    "    values = {}\n",
    "    Q  = 0.0\n",
    "    for v in G.nodes:\n",
    "        values[v] = random.uniform(0.0, 1.0)\n",
    "        Q += values[v]\n",
    "        \n",
    "    budget = budgets[i]\n",
    "    print('budget:{}'.format(budget))\n",
    "    start = time.time()\n",
    "    # generate hyper graph of reverse reachable set in graph G\n",
    "    k = max_k(budget, costs)\n",
    "    print('k:{}'.format(k))\n",
    "    RR = sampling(graph=G, C=worker_ids, k=k, delta=1/n, epsilon=0.01, values=values)\n",
    "    print('time to generate RR:{}'.format(time.time()-start))\n",
    "    \n",
    "    #initialize tasks\n",
    "    tasks.append(Task(idx=i, budget=budget, R=RR, Q=Q))\n",
    "    tasks[i].initialize(costs)\n",
    "    tasks[i].set_choice_matroid(D = k )"
   ],
   "metadata": {
    "collapsed": false,
    "ExecuteTime": {
     "end_time": "2024-01-19T05:09:54.996776100Z",
     "start_time": "2024-01-19T05:09:19.614207600Z"
    }
   },
   "id": "69807a6570b5fb1f",
   "execution_count": 16
  },
  {
   "cell_type": "code",
   "outputs": [],
   "source": [
    "for worker in workers:\n",
    "    value_dict = {}\n",
    "    for t in tasks:\n",
    "        value_dict[t] = random.random()\n",
    "    worker.set_preference(value_dict)"
   ],
   "metadata": {
    "collapsed": false,
    "ExecuteTime": {
     "end_time": "2024-01-19T05:09:55.014798700Z",
     "start_time": "2024-01-19T05:09:54.998776800Z"
    }
   },
   "id": "f93b389c3e87b375",
   "execution_count": 17
  },
  {
   "cell_type": "code",
   "outputs": [],
   "source": [
    "from stable_matching.stableMatching import generalized_da\n",
    "for t in tasks:\n",
    "    t.refresh()\n",
    "for w in workers:\n",
    "    w.refresh()\n",
    "generalized_da(tasks,workers)"
   ],
   "metadata": {
    "collapsed": false,
    "ExecuteTime": {
     "end_time": "2024-01-19T05:09:55.044818700Z",
     "start_time": "2024-01-19T05:09:55.014798700Z"
    }
   },
   "id": "ce9ffdc753e46007",
   "execution_count": 18
  },
  {
   "cell_type": "code",
   "outputs": [],
   "source": [
    "result_dict = {}"
   ],
   "metadata": {
    "collapsed": false,
    "ExecuteTime": {
     "end_time": "2024-01-19T05:09:55.058999400Z",
     "start_time": "2024-01-19T05:09:55.044818700Z"
    }
   },
   "id": "30ca0f67d4ad52fd",
   "execution_count": 19
  },
  {
   "cell_type": "code",
   "outputs": [],
   "source": [
    "from stable_matching.TaskWorker import outward_satisfactory\n",
    "result_dict['outward_satisfactory'] = outward_satisfactory(tasks,workers)"
   ],
   "metadata": {
    "collapsed": false,
    "ExecuteTime": {
     "end_time": "2024-01-19T05:09:55.078881700Z",
     "start_time": "2024-01-19T05:09:55.072375200Z"
    }
   },
   "id": "842caecf63e10a7a",
   "execution_count": 20
  },
  {
   "cell_type": "code",
   "outputs": [],
   "source": [
    "from stable_matching.TaskWorker import individual_rationality_tasks\n",
    "result_dict['individual_rationality'] = individual_rationality_tasks(tasks)"
   ],
   "metadata": {
    "collapsed": false,
    "ExecuteTime": {
     "end_time": "2024-01-19T05:09:55.089897600Z",
     "start_time": "2024-01-19T05:09:55.075882800Z"
    }
   },
   "id": "c61a14c7eec17d7c",
   "execution_count": 21
  },
  {
   "cell_type": "code",
   "outputs": [],
   "source": [
    "from stable_matching.TaskWorker import gamma_workers\n",
    "Sum = 0\n",
    "Max = 0\n",
    "Min = 1000\n",
    "for task in tasks:\n",
    "    q =  task.Q * gamma_workers(task.R,task.students())/len(task.R)/task.budget \n",
    "    Sum += q\n",
    "    if q> Max:\n",
    "        Max = q\n",
    "    if q< Min:\n",
    "        Min = q\n",
    "result_dict['average_density'] = Sum/len(tasks)\n",
    "result_dict['maximum_density'] = Max\n",
    "result_dict['minimum_density'] = Min"
   ],
   "metadata": {
    "collapsed": false,
    "ExecuteTime": {
     "end_time": "2024-01-19T05:09:55.104998600Z",
     "start_time": "2024-01-19T05:09:55.092898700Z"
    }
   },
   "id": "ce43302ed931a9c5",
   "execution_count": 22
  },
  {
   "cell_type": "code",
   "outputs": [
    {
     "data": {
      "text/plain": "{'outward_satisfactory': -3.108108108108108,\n 'individual_rationality': [[11, 4.232877250438186],\n  [14, 3.826517502531262],\n  [2, 0.9458061418363184],\n  [20, 5.804356269088864],\n  [12, 4.702030070970412],\n  [6, 2.7601237260154825],\n  [12, 3.918067451776059],\n  [10, 4.039263490728995],\n  [11, 4.812120169503403],\n  [2, 1.0824574266002218]],\n 'average_density': 1.7224400652891922,\n 'maximum_density': 3.25761728667552,\n 'minimum_density': 0.9066163421495945}"
     },
     "execution_count": 23,
     "metadata": {},
     "output_type": "execute_result"
    }
   ],
   "source": [
    "result_dict"
   ],
   "metadata": {
    "collapsed": false,
    "ExecuteTime": {
     "end_time": "2024-01-19T05:09:55.120174100Z",
     "start_time": "2024-01-19T05:09:55.106151200Z"
    }
   },
   "id": "54e0ebe3ce93337e",
   "execution_count": 23
  }
 ],
 "metadata": {
  "kernelspec": {
   "display_name": "Python 3",
   "language": "python",
   "name": "python3"
  },
  "language_info": {
   "codemirror_mode": {
    "name": "ipython",
    "version": 2
   },
   "file_extension": ".py",
   "mimetype": "text/x-python",
   "name": "python",
   "nbconvert_exporter": "python",
   "pygments_lexer": "ipython2",
   "version": "2.7.6"
  }
 },
 "nbformat": 4,
 "nbformat_minor": 5
}
