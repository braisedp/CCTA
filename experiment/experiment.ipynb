{
 "cells": [
  {
   "cell_type": "code",
   "execution_count": 1,
   "id": "initial_id",
   "metadata": {
    "collapsed": true,
    "ExecuteTime": {
     "end_time": "2024-01-20T13:11:30.455079400Z",
     "start_time": "2024-01-20T13:11:30.073410400Z"
    }
   },
   "outputs": [],
   "source": [
    "import math\n",
    "import random\n",
    "import time\n",
    "from graph.graph import read_graph_from_csv"
   ]
  },
  {
   "cell_type": "code",
   "outputs": [],
   "source": [
    "from stable_matching.TaskWorker import outward_satisfactory,overall_satisfactory,gamma_workers,individual_rationality_tasks,waste_pairwise\n",
    "def estimate(Tasks, Workers):\n",
    "    result_dict = {'fairness-pairwise': outward_satisfactory(Tasks, Workers),\n",
    "                   # 'overall_satisfactory': overall_satisfactory(tasks,workers),\n",
    "                   'individual_rationality': individual_rationality_tasks(Tasks),\n",
    "                   'waste-pairwise': waste_pairwise(Tasks, Workers)}\n",
    "    Sum = 0\n",
    "    Max = 0\n",
    "    Min = 1000\n",
    "    for t_ in Tasks:\n",
    "        if len(t_.students()) <=0:\n",
    "            break\n",
    "        q = t_.Q * gamma_workers(t_.R, t_.students()) / len(t_.R) / sum([t_.costs[e] for e in t_.students()])\n",
    "        Sum += q\n",
    "        if q> Max:\n",
    "            Max = q\n",
    "        if q< Min:\n",
    "            Min = q\n",
    "    result_dict['average-density'] = Sum/len(Tasks)\n",
    "    result_dict['maximum-density'] = Max\n",
    "    result_dict['minimum-density'] = Min\n",
    "    return result_dict"
   ],
   "metadata": {
    "collapsed": false,
    "ExecuteTime": {
     "end_time": "2024-01-20T13:11:30.471039500Z",
     "start_time": "2024-01-20T13:11:30.458531600Z"
    }
   },
   "id": "940949871e8ce1a9",
   "execution_count": 2
  },
  {
   "cell_type": "code",
   "outputs": [],
   "source": [
    "graph_file = '../graphs/dash/dash.csv'"
   ],
   "metadata": {
    "collapsed": false,
    "ExecuteTime": {
     "end_time": "2024-01-20T13:11:30.487039700Z",
     "start_time": "2024-01-20T13:11:30.472039300Z"
    }
   },
   "id": "2ed0da0f38d57e63",
   "execution_count": 3
  },
  {
   "cell_type": "code",
   "outputs": [],
   "source": [
    "m = 10 # number of tasks\n",
    "n = 100 # number of candidate workers"
   ],
   "metadata": {
    "collapsed": false,
    "ExecuteTime": {
     "end_time": "2024-01-20T13:11:30.502094600Z",
     "start_time": "2024-01-20T13:11:30.488041300Z"
    }
   },
   "id": "b7618e7c6ee37663",
   "execution_count": 4
  },
  {
   "cell_type": "markdown",
   "source": [
    "initialize workers by their ids"
   ],
   "metadata": {
    "collapsed": false
   },
   "id": "20676102a26d9aad"
  },
  {
   "cell_type": "code",
   "outputs": [],
   "source": [
    "from stable_matching.TaskWorker import Worker\n",
    "\n",
    "g = read_graph_from_csv(graph_file,0)\n",
    "workers = []\n",
    "worker_ids = random.sample(list(g.nodes.keys()),n)\n",
    "for i in range(n):\n",
    "    workers.append(Worker(idx = worker_ids[i]))\n",
    "del g"
   ],
   "metadata": {
    "collapsed": false,
    "ExecuteTime": {
     "end_time": "2024-01-20T13:11:32.079181300Z",
     "start_time": "2024-01-20T13:11:30.504094500Z"
    }
   },
   "id": "efd10873db00b32f",
   "execution_count": 5
  },
  {
   "cell_type": "markdown",
   "source": [
    "initialize tasks : (ids, budget, reverse reachable set, Q)"
   ],
   "metadata": {
    "collapsed": false
   },
   "id": "e32982c105cabea8"
  },
  {
   "cell_type": "code",
   "outputs": [
    {
     "name": "stdout",
     "output_type": "stream",
     "text": [
      "budget:5\n",
      "k:6\n",
      "i_max:35\n",
      "time to generate RR:0.6486344337463379\n",
      "budget:13\n",
      "k:15\n",
      "i_max:34\n",
      "time to generate RR:0.8114962577819824\n",
      "budget:9\n",
      "k:10\n",
      "i_max:35\n",
      "time to generate RR:0.7525885105133057\n",
      "budget:9\n",
      "k:11\n",
      "i_max:35\n",
      "time to generate RR:0.7686672210693359\n",
      "budget:5\n",
      "k:6\n",
      "i_max:36\n",
      "time to generate RR:2.553366184234619\n",
      "budget:6\n",
      "k:8\n",
      "i_max:35\n",
      "time to generate RR:0.760444164276123\n",
      "budget:7\n",
      "k:8\n",
      "i_max:35\n",
      "time to generate RR:1.4485135078430176\n",
      "budget:14\n",
      "k:16\n",
      "i_max:34\n",
      "time to generate RR:0.9404504299163818\n",
      "budget:10\n",
      "k:12\n",
      "i_max:35\n",
      "time to generate RR:1.6675832271575928\n",
      "budget:15\n",
      "k:17\n",
      "i_max:34\n",
      "time to generate RR:1.0056607723236084\n"
     ]
    }
   ],
   "source": [
    "from graph.QIM import sampling\n",
    "from utils.funcs import max_k\n",
    "from stable_matching.TaskWorker import Task\n",
    "import scipy.stats as stats\n",
    "\n",
    "mu = 1.0\n",
    "sigma = 0.1\n",
    "\n",
    "tasks = []\n",
    "graph_ids = random.sample(range(100),m)\n",
    "\n",
    "# allocate budget to every task, sum of all budget is total_budget\n",
    "avg_budget  = 10\n",
    "max_variance = math.ceil(avg_budget/2)\n",
    "\n",
    "\n",
    "budgets = [random.randint(avg_budget-max_variance,avg_budget+max_variance) for _ in range(m)]\n",
    "\n",
    "for i in range(m):\n",
    "    G = read_graph_from_csv(graph_file,graph_ids[i])\n",
    "    \n",
    "    # generate cost of all candidate worker, task cost is generate from a trunc gaussian distribution mu = 1.0, sigma = 0.1, lb = 0.5, ub = 1.5\n",
    "    X = stats.truncnorm((0.5-mu)/sigma, (1.5-mu)/sigma, loc= mu, scale= sigma).rvs(n)\n",
    "    costs = {}\n",
    "    for j in range(n):\n",
    "        costs[workers[j]] = X[j]\n",
    "        \n",
    "    # values of all workers\n",
    "    values = {}\n",
    "    Q  = 0.0\n",
    "    for v in G.nodes:\n",
    "        values[v] = random.uniform(0.0, 1.0)\n",
    "        Q += values[v]\n",
    "        \n",
    "    budget = budgets[i]\n",
    "    print('budget:{}'.format(budget))\n",
    "    start = time.time()\n",
    "    # generate hyper graph of reverse reachable set in graph G\n",
    "    k = max_k(budget, costs)\n",
    "    print('k:{}'.format(k))\n",
    "    RR = sampling(graph=G, C=worker_ids, k=k, delta=1/n, epsilon=0.01, values=values)\n",
    "    print('time to generate RR:{}'.format(time.time()-start))\n",
    "    \n",
    "    #initialize tasks\n",
    "    tasks.append(Task(idx=i, budget=budget, R=RR, Q=Q))\n",
    "    tasks[i].initialize(costs)"
   ],
   "metadata": {
    "collapsed": false,
    "ExecuteTime": {
     "end_time": "2024-01-20T13:11:59.073096400Z",
     "start_time": "2024-01-20T13:11:32.083175400Z"
    }
   },
   "id": "69807a6570b5fb1f",
   "execution_count": 6
  },
  {
   "cell_type": "code",
   "outputs": [],
   "source": [
    "for worker in workers:\n",
    "    value_dict = {}\n",
    "    for t in tasks:\n",
    "        value_dict[t] = random.random()\n",
    "    worker.set_preference(value_dict)"
   ],
   "metadata": {
    "collapsed": false,
    "ExecuteTime": {
     "end_time": "2024-01-20T13:11:59.098568600Z",
     "start_time": "2024-01-20T13:11:59.074562100Z"
    }
   },
   "id": "f93b389c3e87b375",
   "execution_count": 7
  },
  {
   "cell_type": "code",
   "outputs": [
    {
     "data": {
      "text/plain": "{'fairness-pairwise': 0.01851851851851849,\n 'individual_rationality': [[5, 4.977195049786301],\n  [13, 5.819660491271586],\n  [9, 2.9483119456842006],\n  [9, 5.003516720451021],\n  [5, 4.991332742215252],\n  [6, 3.892358188681466],\n  [7, 4.918852924105278],\n  [14, 7.43571387019767],\n  [10, 4.79437014676433],\n  [15, 9.111563874040943]],\n 'waste-pairwise': 7.481481481481482,\n 'average-density': 3.104812383542731,\n 'maximum-density': 8.532429089316741,\n 'minimum-density': 1.1949637337281294}"
     },
     "execution_count": 8,
     "metadata": {},
     "output_type": "execute_result"
    }
   ],
   "source": [
    "from stable_matching.stableMatching import generalized_da\n",
    "for worker in workers:\n",
    "    worker.refresh()\n",
    "for task in tasks:\n",
    "    task.refresh()\n",
    "    task.set_choice_max_cover()\n",
    "generalized_da(tasks,workers)\n",
    "estimate(tasks,workers)"
   ],
   "metadata": {
    "collapsed": false,
    "ExecuteTime": {
     "end_time": "2024-01-20T13:11:59.137580400Z",
     "start_time": "2024-01-20T13:11:59.127569500Z"
    }
   },
   "id": "6c5860a4dece8355",
   "execution_count": 8
  },
  {
   "cell_type": "code",
   "outputs": [
    {
     "data": {
      "text/plain": "{'fairness-pairwise': 0.9666666666666667,\n 'individual_rationality': [[5, 4.533971953504047],\n  [13, 12.997260473248437],\n  [9, 8.79746728688131],\n  [9, 8.192857217495563],\n  [5, 4.1591289383493955],\n  [6, 5.9364384842691535],\n  [7, 6.692214405488827],\n  [14, 13.25103425787727],\n  [10, 9.711031858661915],\n  [15, 14.886366792896794]],\n 'waste-pairwise': 0.011111111111111112,\n 'average-density': 1.9910721442551491,\n 'maximum-density': 3.629351664738633,\n 'minimum-density': 0.8428212179308112}"
     },
     "execution_count": 9,
     "metadata": {},
     "output_type": "execute_result"
    }
   ],
   "source": [
    "from stable_matching.stableMatching import generalized_da\n",
    "for worker in workers:\n",
    "    worker.refresh()\n",
    "for task in tasks:\n",
    "    task.refresh()\n",
    "    task.set_choice_budget()\n",
    "generalized_da(tasks,workers)\n",
    "estimate(tasks, workers)"
   ],
   "metadata": {
    "collapsed": false,
    "ExecuteTime": {
     "end_time": "2024-01-20T13:11:59.167579800Z",
     "start_time": "2024-01-20T13:11:59.155579500Z"
    }
   },
   "id": "54e0ebe3ce93337e",
   "execution_count": 9
  },
  {
   "cell_type": "code",
   "outputs": [
    {
     "data": {
      "text/plain": "{'fairness-pairwise': -1.4047619047619047,\n 'individual_rationality': [[5, 2.530037898242301],\n  [13, 4.851378678005616],\n  [9, 4.005435059100366],\n  [9, 4.711975196078452],\n  [5, 2.8495759493286457],\n  [6, 3.0597420430521654],\n  [7, 4.008110402884159],\n  [14, 5.069755708404464],\n  [10, 4.6513561797836145],\n  [15, 5.291359904101123]],\n 'waste-pairwise': 15.214285714285714,\n 'average-density': 3.535422951148506,\n 'maximum-density': 7.488326480578932,\n 'minimum-density': 2.0485712066873973}"
     },
     "execution_count": 10,
     "metadata": {},
     "output_type": "execute_result"
    }
   ],
   "source": [
    "from stable_matching.stableMatching import generalized_da\n",
    "for worker in workers:\n",
    "    worker.refresh()\n",
    "for task in tasks:\n",
    "    task.refresh()\n",
    "    task.set_choice_matroid(4)\n",
    "generalized_da(tasks,workers)\n",
    "estimate(tasks,workers)"
   ],
   "metadata": {
    "collapsed": false,
    "ExecuteTime": {
     "end_time": "2024-01-20T13:11:59.215579300Z",
     "start_time": "2024-01-20T13:11:59.199579500Z"
    }
   },
   "id": "23418e9d42598ba",
   "execution_count": 10
  },
  {
   "cell_type": "code",
   "outputs": [],
   "source": [
    "# from stable_matching.stableMatching import heuristic\n",
    "# for worker in workers:\n",
    "#     worker.refresh()\n",
    "# for task in tasks:\n",
    "#     task.refresh()\n",
    "# heuristic(tasks,workers,100)\n",
    "# estimate(tasks,workers)"
   ],
   "metadata": {
    "collapsed": false,
    "ExecuteTime": {
     "end_time": "2024-01-20T13:11:59.233579100Z",
     "start_time": "2024-01-20T13:11:59.216579900Z"
    }
   },
   "id": "607cd0276b910720",
   "execution_count": 11
  }
 ],
 "metadata": {
  "kernelspec": {
   "display_name": "Python 3",
   "language": "python",
   "name": "python3"
  },
  "language_info": {
   "codemirror_mode": {
    "name": "ipython",
    "version": 2
   },
   "file_extension": ".py",
   "mimetype": "text/x-python",
   "name": "python",
   "nbconvert_exporter": "python",
   "pygments_lexer": "ipython2",
   "version": "2.7.6"
  }
 },
 "nbformat": 4,
 "nbformat_minor": 5
}
