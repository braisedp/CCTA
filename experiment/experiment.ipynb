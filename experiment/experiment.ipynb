{
 "cells": [
  {
   "cell_type": "code",
   "execution_count": null,
   "id": "initial_id",
   "metadata": {
    "collapsed": true
   },
   "outputs": [],
   "source": [
    "import math\n",
    "import random\n",
    "import time\n",
    "from graph.graph import read_graph_from_csv"
   ]
  },
  {
   "cell_type": "code",
   "outputs": [],
   "source": [
    "from stable_matching.TaskWorker import outward_satisfactory,overall_satisfactory,gamma_workers,individual_rationality_tasks,waste_pairwise,calculate_influence_workers\n",
    "def estimate(Tasks, Workers, ise=False):\n",
    "    if ise:\n",
    "        for task_ in Tasks:\n",
    "            task_.estimate()\n",
    "    result_dict = {'fairness-pairwise': outward_satisfactory(Tasks, Workers, ise),\n",
    "                   # 'overall_satisfactory': overall_satisfactory(tasks,workers,ise),\n",
    "                   'individual_rationality': individual_rationality_tasks(Tasks),\n",
    "                   'waste-pairwise': waste_pairwise(Tasks, Workers)}\n",
    "    Sum = 0\n",
    "    Max = 0\n",
    "    Min = 1000\n",
    "    for t_ in Tasks:\n",
    "        if len(t_.students()) <=0:\n",
    "            break\n",
    "        q = calculate_influence_workers(t_.students(), t_.G, t_.values)\n",
    "        Sum += q\n",
    "        if q> Max:\n",
    "            Max = q\n",
    "        if q< Min:\n",
    "            Min = q\n",
    "    result_dict['average-density'] = Sum/len(Tasks)\n",
    "    result_dict['maximum-density'] = Max\n",
    "    result_dict['minimum-density'] = Min\n",
    "    return result_dict"
   ],
   "metadata": {
    "collapsed": false
   },
   "id": "940949871e8ce1a9",
   "execution_count": null
  },
  {
   "cell_type": "code",
   "outputs": [],
   "source": [
    "graph_file = '../graphs/dash/dash.csv'"
   ],
   "metadata": {
    "collapsed": false
   },
   "id": "2ed0da0f38d57e63",
   "execution_count": null
  },
  {
   "cell_type": "code",
   "outputs": [],
   "source": [
    "m = 5 # number of tasks\n",
    "n = 100 # number of candidate workers"
   ],
   "metadata": {
    "collapsed": false
   },
   "id": "b7618e7c6ee37663",
   "execution_count": null
  },
  {
   "cell_type": "markdown",
   "source": [
    "initialize workers by their ids"
   ],
   "metadata": {
    "collapsed": false
   },
   "id": "20676102a26d9aad"
  },
  {
   "cell_type": "code",
   "outputs": [],
   "source": [
    "from stable_matching.TaskWorker import Worker\n",
    "\n",
    "g = read_graph_from_csv(graph_file,0)\n",
    "workers = []\n",
    "worker_ids = random.sample(list(g.nodes.keys()),n)\n",
    "for i in range(n):\n",
    "    workers.append(Worker(idx = worker_ids[i]))\n",
    "del g"
   ],
   "metadata": {
    "collapsed": false
   },
   "id": "efd10873db00b32f",
   "execution_count": null
  },
  {
   "cell_type": "markdown",
   "source": [
    "initialize tasks : (ids, budget, reverse reachable set, Q)"
   ],
   "metadata": {
    "collapsed": false
   },
   "id": "e32982c105cabea8"
  },
  {
   "cell_type": "code",
   "outputs": [],
   "source": [
    "from graph.QIM import sampling\n",
    "from utils.funcs import max_k\n",
    "from stable_matching.TaskWorker import Task\n",
    "\n",
    "mu = 1.0\n",
    "sigma = 0.1\n",
    "\n",
    "# allocate budget to every task, sum of all budget is total_budget\n",
    "avg_budget  = 3\n",
    "max_variance = math.ceil(avg_budget/2)\n",
    "\n",
    "budgets = [random.randint(avg_budget-max_variance,avg_budget+max_variance) for _ in range(m)]\n",
    "costs = {}\n",
    "values ={}\n",
    "Q = [0] * m\n",
    "g = read_graph_from_csv(graph_file,0)\n",
    "for i in range(m):\n",
    "    # generate cost of all candidate worker, task cost is generate from a trunc gaussian distribution mu = 1.0, sigma = 0.1, lb = 0.5, ub = 1.5\n",
    "    X = [random.uniform(0.1,2.0) for _ in range(n)]\n",
    "    costs[i] = {}\n",
    "    for j in range(n):\n",
    "        costs[i][workers[j]] = X[j]\n",
    "        \n",
    "    # values of all workers\n",
    "    values[i] = {}\n",
    "    \n",
    "    for v in g.nodes:\n",
    "        values[i][v] = random.uniform(0.0, 1.0)\n",
    "        Q[i] += values[i][v]\n",
    "        "
   ],
   "metadata": {
    "collapsed": false
   },
   "id": "6d278371e33ea3f3",
   "execution_count": null
  },
  {
   "cell_type": "code",
   "outputs": [],
   "source": [
    "from tqdm import tqdm\n",
    "tasks = []\n",
    "graph_ids = random.sample(range(100),m)\n",
    "with tqdm(total = m * 100, desc='generate tasks', leave=True, ncols=100, unit='B', unit_scale=True) as pbar:\n",
    "    for i in range(m):\n",
    "        start = time.time()\n",
    "        G = read_graph_from_csv(graph_file,graph_ids[i])\n",
    "        budget = budgets[i]\n",
    "        # generate hyper graph of reverse reachable set in graph G\n",
    "        k = max_k(budget, costs[i])\n",
    "        RR = sampling(graph=G, C=worker_ids, k=k, delta=1/n, epsilon=0.01, values=values[i], method= 'sq')\n",
    "        pbar.set_postfix({'task': i,'time used':time.time()-start})\n",
    "    \n",
    "        #initialize tasks\n",
    "        tasks.append(Task(idx=i, budget=budget, R=RR, Q=Q[i]))\n",
    "        tasks[i].initialize(costs[i])\n",
    "        tasks[i].set_graph(G, values[i])\n",
    "        pbar.update(100)"
   ],
   "metadata": {
    "collapsed": false
   },
   "id": "69807a6570b5fb1f",
   "execution_count": null
  },
  {
   "cell_type": "code",
   "outputs": [],
   "source": [
    "for worker in workers:\n",
    "    value_dict = {}\n",
    "    for t in tasks:\n",
    "        value_dict[t] = random.random()\n",
    "    worker.set_preference(value_dict)"
   ],
   "metadata": {
    "collapsed": false
   },
   "id": "f93b389c3e87b375",
   "execution_count": null
  },
  {
   "cell_type": "code",
   "outputs": [],
   "source": [
    "from stable_matching.stableMatching import generalized_da\n",
    "for worker in workers:\n",
    "    worker.refresh()\n",
    "for task in tasks:\n",
    "    task.refresh()\n",
    "    task.set_choice_max_cover()\n",
    "generalized_da(tasks,workers)\n",
    "estimate(tasks,workers)"
   ],
   "metadata": {
    "collapsed": false
   },
   "id": "6c5860a4dece8355",
   "execution_count": null
  },
  {
   "cell_type": "code",
   "outputs": [],
   "source": [
    "from stable_matching.stableMatching import generalized_da\n",
    "for worker in workers:\n",
    "    worker.refresh()\n",
    "for task in tasks:\n",
    "    task.refresh()\n",
    "    task.set_choice_budget()\n",
    "generalized_da(tasks,workers)\n",
    "estimate(tasks, workers)"
   ],
   "metadata": {
    "collapsed": false
   },
   "id": "54e0ebe3ce93337e",
   "execution_count": null
  },
  {
   "cell_type": "code",
   "outputs": [],
   "source": [
    "from stable_matching.stableMatching import generalized_da\n",
    "for worker in workers:\n",
    "    worker.refresh()\n",
    "for task in tasks:\n",
    "    task.refresh()\n",
    "    task.set_choice_matroid(6)\n",
    "generalized_da(tasks,workers)\n",
    "estimate(tasks,workers)"
   ],
   "metadata": {
    "collapsed": false
   },
   "id": "23418e9d42598ba",
   "execution_count": null
  },
  {
   "cell_type": "code",
   "outputs": [],
   "source": [
    "from stable_matching.stableMatching import heuristic\n",
    "for worker in workers:\n",
    "    worker.refresh()\n",
    "for task in tasks:\n",
    "    task.refresh()\n",
    "heuristic(tasks,workers,1000)"
   ],
   "metadata": {
    "collapsed": false
   },
   "id": "a784e7d5b45ac50",
   "execution_count": null
  },
  {
   "cell_type": "code",
   "outputs": [],
   "source": [
    "estimate(tasks,workers)"
   ],
   "metadata": {
    "collapsed": false
   },
   "id": "607cd0276b910720",
   "execution_count": null
  }
 ],
 "metadata": {
  "kernelspec": {
   "display_name": "Python 3",
   "language": "python",
   "name": "python3"
  },
  "language_info": {
   "codemirror_mode": {
    "name": "ipython",
    "version": 2
   },
   "file_extension": ".py",
   "mimetype": "text/x-python",
   "name": "python",
   "nbconvert_exporter": "python",
   "pygments_lexer": "ipython2",
   "version": "2.7.6"
  }
 },
 "nbformat": 4,
 "nbformat_minor": 5
}
