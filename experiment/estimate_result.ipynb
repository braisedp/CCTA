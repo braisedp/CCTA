{
 "cells": [
  {
   "cell_type": "code",
   "execution_count": 8,
   "id": "initial_id",
   "metadata": {
    "collapsed": true,
    "ExecuteTime": {
     "end_time": "2024-01-24T12:28:50.723545900Z",
     "start_time": "2024-01-24T12:28:50.705545600Z"
    }
   },
   "outputs": [
    {
     "name": "stdout",
     "output_type": "stream",
     "text": [
      "method     task\n",
      "budget     5       0.860745\n",
      "           10      0.875587\n",
      "           15      0.891772\n",
      "           20      0.924889\n",
      "heuristic  5       0.971589\n",
      "           10      0.909204\n",
      "           15      0.935158\n",
      "           20      0.924050\n",
      "matroid    5       0.507532\n",
      "           10      0.636088\n",
      "           15      0.677844\n",
      "           20      0.719903\n",
      "max-cover  5       0.675692\n",
      "           10      0.713307\n",
      "           15      0.760211\n",
      "           20      0.789629\n",
      "Name: fairness-pairwise, dtype: float64\n"
     ]
    }
   ],
   "source": [
    "import pandas as pd\n",
    "df = pd.read_csv('./result/dash.csv')\n",
    "df1= df[(df['avg-budget'] == 1.0)&(df['worker']== 100)]\n",
    "group = df.groupby(['method','task'])\n",
    "df2 = group['fairness-pairwise'].mean()\n",
    "df3 = group['fairness-pairwise'].max()\n",
    "df4 = group['fairness-pairwise'].min()"
   ]
  },
  {
   "cell_type": "code",
   "outputs": [],
   "source": [
    "X = "
   ],
   "metadata": {
    "collapsed": false
   },
   "id": "d8a266817cfefa03",
   "execution_count": null
  }
 ],
 "metadata": {
  "kernelspec": {
   "display_name": "Python 3",
   "language": "python",
   "name": "python3"
  },
  "language_info": {
   "codemirror_mode": {
    "name": "ipython",
    "version": 2
   },
   "file_extension": ".py",
   "mimetype": "text/x-python",
   "name": "python",
   "nbconvert_exporter": "python",
   "pygments_lexer": "ipython2",
   "version": "2.7.6"
  }
 },
 "nbformat": 4,
 "nbformat_minor": 5
}
